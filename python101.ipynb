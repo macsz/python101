{
 "cells": [
  {
   "cell_type": "markdown",
   "metadata": {
    "slideshow": {
     "slide_type": "slide"
    }
   },
   "source": [
    "# Python 101\n",
    "\n",
    "\n",
    "##### Maciej Szankin <maciej.szankin@intel.com>"
   ]
  },
  {
   "cell_type": "markdown",
   "metadata": {
    "slideshow": {
     "slide_type": "slide"
    }
   },
   "source": [
    "## Agenda"
   ]
  },
  {
   "cell_type": "markdown",
   "metadata": {
    "slideshow": {
     "slide_type": "slide"
    }
   },
   "source": [
    "## Python language\n",
    "* Object Oriented\n",
    "* however #1 - no explicit encapsulation: __\"After all, we're all consenting adults here.\"__\n",
    "* however #2 - no class interface, only (multi)inheritance\n",
    "* multi-paradigm\n",
    "* interpreted\n",
    "* strongly typed\n",
    "* dynamically typed\n",
    "* designed for code clarity\n",
    "* object introspection\n",
    "* interactive mode (terminal / IPython)\n",
    "* interfaces to many popular programming languages:\n",
    "  * C++\n",
    "  * Java\n",
    "  * .NET\n",
    "  * and manu others\n",
    "* has it's own package manager - pip & easy_install\n",
    "* before writing a library - check if it exists"
   ]
  },
  {
   "cell_type": "markdown",
   "metadata": {
    "slideshow": {
     "slide_type": "slide"
    }
   },
   "source": [
    "![caption](images/python_xkcd.png)\n",
    "\n",
    "*Source: https://xkcd.com/353/*"
   ]
  },
  {
   "cell_type": "markdown",
   "metadata": {
    "slideshow": {
     "slide_type": "slide"
    }
   },
   "source": [
    "## History of Python\n",
    "\n",
    "![caption](images/gvanrossum.jpg)\n",
    "*Source: https://gvanrossum.github.io/images/IMG_2192.jpg*\n",
    "\n",
    "*Python is an experiment in how much freedom programmers need. Too much freedom and nobody can read another's code; too little and expressiveness is endangered.*\n",
    "\n",
    "* Created in 1989 by Guido Van Rossum\n",
    "* Python releases:\n",
    "  * 1994: Python 1.0\n",
    "  * 2000: Python 2.0\n",
    "  * 2008: Python 3.0\n",
    "* Python 2.7 is the most commonly used Python version"
   ]
  },
  {
   "cell_type": "markdown",
   "metadata": {
    "slideshow": {
     "slide_type": "slide"
    }
   },
   "source": [
    "## Typical project structure\n",
    "\n",
    "```\n",
    "/example_pkg\n",
    "--/example_pkg\n",
    "----__init__.py\n",
    "----my_script.py\n",
    "--setup.py\n",
    "--LICENSE\n",
    "--README.md\n",
    "```"
   ]
  },
  {
   "cell_type": "markdown",
   "metadata": {
    "slideshow": {
     "slide_type": "slide"
    }
   },
   "source": [
    "## Modules and packages\n",
    "\n",
    "* Packages are namespaces which contain multiple packages and modules themselves. They are simply directories, but with a twist.\n",
    "* Each package in Python is a directory which MUST contain a special file called __\\_\\_init\\_\\_.py__. This file can be empty.\n",
    "* By importing modules in __\\_\\_init\\_\\_.py__ we can control visibility and namespaces.\n",
    "* Take a look into __python_tutorial__ directory for example."
   ]
  },
  {
   "cell_type": "markdown",
   "metadata": {
    "slideshow": {
     "slide_type": "slide"
    }
   },
   "source": [
    "## Importing"
   ]
  },
  {
   "cell_type": "code",
   "execution_count": 1,
   "metadata": {
    "slideshow": {
     "slide_type": "fragment"
    }
   },
   "outputs": [
    {
     "data": {
      "text/plain": [
       "tensorflow.python.framework.dtypes.DType"
      ]
     },
     "execution_count": 1,
     "metadata": {},
     "output_type": "execute_result"
    }
   ],
   "source": [
    "import tensorflow\n",
    "tensorflow.DType\n",
    "\n",
    "import tensorflow as tf\n",
    "tf.DType\n",
    "\n",
    "from tensorflow import DType\n",
    "DType\n",
    "\n",
    "from tensorflow import DType as dt\n",
    "dt\n",
    "\n",
    "from tensorflow.python import framework\n",
    "framework.dtypes.DType\n",
    "\n",
    "from tensorflow.python.framework.dtypes import *\n",
    "DType"
   ]
  },
  {
   "cell_type": "markdown",
   "metadata": {
    "slideshow": {
     "slide_type": "slide"
    }
   },
   "source": [
    "## Virtual Environments\n",
    "\n",
    "1. virtualenv\n",
    "  * `virtualenv -ppython3 /path/to/ENV`\n",
    "    * it's a good practice to keep virtualenv files outside of the project's structure.\n",
    "    * Try to keep all virtualenvs in one, common directory (ex: __/home/user/.envs__)\n",
    "  * `source /path/to/ENV/bin/activate`\n",
    "  * `pip install package`\n",
    "1. conda\n",
    "  * `conda create -n ENV python=3.6 --no-default-packages`\n",
    "  * `conda activate ENV`\n",
    "  * `pip install package` or `conda install package`"
   ]
  },
  {
   "cell_type": "markdown",
   "metadata": {
    "slideshow": {
     "slide_type": "slide"
    }
   },
   "source": [
    "## System variables\n",
    "\n",
    "* The most important system variable is __PYTHONPATH__.\n",
    "  * When running *python* command, the interpreter will use current directory and the ones defined in __PYTHONPATH__ as a search path for modules to import.\n",
    "  * `PYTHONPATH` has the same format as the shell's `PATH`"
   ]
  },
  {
   "cell_type": "code",
   "execution_count": 2,
   "metadata": {
    "slideshow": {
     "slide_type": "fragment"
    }
   },
   "outputs": [
    {
     "name": "stdout",
     "output_type": "stream",
     "text": [
      "environ({'Apple_PubSub_Socket_Render': '/private/tmp/com.apple.launchd.w5F02tKS4Y/Render', 'BETTER_EXCEPTIONS': '1', 'COLORFGBG': '15;0', 'COLORTERM': 'truecolor', 'CONDA_SHLVL': '1', 'GREP_COLOR': '1;33', 'HOME': '/Users/mszankin', 'ITERM_PROFILE': 'Default', 'ITERM_SESSION_ID': 'w0t0p0:590CCA5F-7A40-4C07-8A35-0E8EA82B3AA1', 'LANG': 'en_US.UTF-8', 'LC_CTYPE': 'en_US.UTF-8', 'LESS': '-R', 'LOGNAME': 'mszankin', 'LSCOLORS': 'exfxcxdxbxegedabagacad', 'LS_COLORS': 'di=34;40:ln=35;40:so=32;40:pi=33;40:ex=31;40:bd=34;46:cd=34;43:su=0;41:sg=0;46:tw=0;42:ow=0;43:', 'OLDPWD': '/Users/mszankin/workspace/python_tutorial/python_tutorial', 'PAGER': 'cat', 'PATH': '/usr/local/anaconda3/envs/stuff/bin:/usr/local/anaconda3/envs/stuff/bin:/Users/mszankin/google-cloud-sdk/bin:/usr/local/cuda-9.2/bin:/usr/local/anaconda3/bin:/usr/local/bin:/usr/bin:/bin:/usr/sbin:/sbin:/Library/TeX/texbin:/Users/mszankin/google-cloud-sdk/bin:/usr/local/cuda-9.2/bin:/usr/local/anaconda3/bin', 'PWD': '/Users/mszankin/workspace/python_tutorial', 'SHELL': '/bin/zsh', 'SHLVL': '2', 'SQLITE_EXEMPT_PATH_FROM_VNODE_GUARDS': '/Users/mszankin/Library/WebKit/Databases', 'SSH_AUTH_SOCK': '/private/tmp/com.apple.launchd.VWIWDwFsV3/Listeners', 'TERM': 'xterm-color', 'TERM_PROGRAM': 'iTerm.app', 'TERM_PROGRAM_VERSION': '3.2.5', 'TERM_SESSION_ID': 'w0t0p0:590CCA5F-7A40-4C07-8A35-0E8EA82B3AA1', 'TMPDIR': '/var/folders/y0/ts0cnwcj1bq_1n41nvpwdrvm0000gq/T/', 'TMUX': '/private/tmp/tmux-503/default,7938,0', 'TMUX_PANE': '%6', 'USER': 'mszankin', 'XPC_FLAGS': '0x0', 'XPC_SERVICE_NAME': '0', 'ZSH': '/Users/mszankin/.oh-my-zsh', 'ZSH_AUTOSUGGEST_HIGHLIGHT_STYLE': 'fg=244', 'ZSH_TMUX_TERM': 'screen-256color', '_ZSH_TMUX_FIXED_CONFIG': '/Users/mszankin/.oh-my-zsh/plugins/tmux/tmux.extra.conf', '__CF_USER_TEXT_ENCODING': '0x0:0:0', 'no_conda_path': '/usr/local/bin:/usr/bin:/bin:/usr/sbin:/sbin:/Library/TeX/texbin:/Users/mszankin/google-cloud-sdk/bin:/usr/local/cuda-9.2/bin:/usr/local/anaconda3/bin', 'LD_LIBRARY_PATH': '/usr/local/cuda-9.2/lib64:', 'CONDA_DEFAULT_ENV': 'stuff', 'CONDA_EXE': '/usr/local/anaconda3/bin/conda', 'CONDA_PREFIX': '/usr/local/anaconda3/envs/stuff', 'CONDA_PROMPT_MODIFIER': '(stuff) ', 'CONDA_PYTHON_EXE': '/usr/local/anaconda3/bin/python', '_': '/usr/local/anaconda3/envs/stuff/bin/jupyter', 'JPY_PARENT_PID': '53534', 'CLICOLOR': '1', 'GIT_PAGER': 'cat', 'MPLBACKEND': 'module://ipykernel.pylab.backend_inline', 'KMP_BLOCKTIME': '1', 'OMP_PROC_BIND': 'true'})\n"
     ]
    }
   ],
   "source": [
    "import os\n",
    "print(os.environ)"
   ]
  },
  {
   "cell_type": "code",
   "execution_count": 3,
   "metadata": {
    "slideshow": {
     "slide_type": "subslide"
    }
   },
   "outputs": [
    {
     "name": "stdout",
     "output_type": "stream",
     "text": [
      "/Users/mszankin\n",
      "Python interpreter path: /usr/local/anaconda3/envs/stuff\n"
     ]
    }
   ],
   "source": [
    "print(os.environ['HOME'])\n",
    "\n",
    "import sys\n",
    "print('Python interpreter path:', sys.prefix)"
   ]
  },
  {
   "cell_type": "markdown",
   "metadata": {
    "slideshow": {
     "slide_type": "slide"
    }
   },
   "source": [
    "## Creating own package\n",
    "\n",
    "1. Prepare the directory tree as shown in `Typical project structure`\n",
    "1. Install required packages: \n",
    "```bash\n",
    "python3 -m pip install setuptools wheel\n",
    "```\n",
    "1. Run this command from the same directory where `setup.py` is located:\n",
    "```bash\n",
    "python3 setup.py sdist bdist_wheel\n",
    "```\n",
    "1. This will created a `dist` directory with built package. To test:\n",
    "  1. Install created package:\n",
    "  ```bash\n",
    "  python3 -m pip install dist/python_tutorial-0.0.1-py3-none-any.whl\n",
    "  ```\n",
    "  2. Go to a different directory, enter Python shell, and try entering the code below:\n",
    "  ```python\n",
    "  import python_tutorial\n",
    "  dir(python_tutorial)\n",
    "  ```"
   ]
  },
  {
   "cell_type": "markdown",
   "metadata": {
    "slideshow": {
     "slide_type": "slide"
    }
   },
   "source": [
    "## Built-in functions\n",
    "\n",
    "![caption](images/built_ins.png)"
   ]
  },
  {
   "cell_type": "markdown",
   "metadata": {
    "slideshow": {
     "slide_type": "slide"
    }
   },
   "source": [
    "## Code blocks & Indentations\n",
    "\n",
    "* most of programming languages do not care about indentations\n",
    "* most people do\n",
    "* we tend to group similar things together\n",
    "* Thus, Python will throw an indentation error if the code is malformed"
   ]
  },
  {
   "cell_type": "code",
   "execution_count": 4,
   "metadata": {
    "slideshow": {
     "slide_type": "fragment"
    }
   },
   "outputs": [
    {
     "name": "stdout",
     "output_type": "stream",
     "text": [
      "5\n"
     ]
    }
   ],
   "source": [
    "def fibonacci(n):\n",
    "    if n<=1:\n",
    "        return n\n",
    "    return fibonacci(n-2) + fibonacci(n-1)\n",
    "print(fibonacci(5))"
   ]
  },
  {
   "cell_type": "markdown",
   "metadata": {
    "slideshow": {
     "slide_type": "slide"
    }
   },
   "source": [
    "## Comments"
   ]
  },
  {
   "cell_type": "code",
   "execution_count": 5,
   "metadata": {
    "slideshow": {
     "slide_type": "fragment"
    }
   },
   "outputs": [
    {
     "name": "stdout",
     "output_type": "stream",
     "text": [
      "Hello World!\n"
     ]
    }
   ],
   "source": [
    "# Single line comment\n",
    "\n",
    "\"\"\"\n",
    "Multi-line...\n",
    "... comment.\n",
    "\"\"\"\n",
    "\n",
    "\"Basically, all non-assigned strings are treated as comments.\"\n",
    "\n",
    "print(\"Hello World!\")  # Comment"
   ]
  },
  {
   "cell_type": "markdown",
   "metadata": {
    "slideshow": {
     "slide_type": "slide"
    }
   },
   "source": [
    "## Types: strings\n",
    "* You can use either ' or \" characters to start/end string, just be consistent"
   ]
  },
  {
   "cell_type": "code",
   "execution_count": 6,
   "metadata": {
    "slideshow": {
     "slide_type": "fragment"
    }
   },
   "outputs": [
    {
     "name": "stdout",
     "output_type": "stream",
     "text": [
      "#1: Lorem ipsum dolor sit amet, consectetur adipiscing elit, sed do eiusmod tempor incididunt ut labore et dolore magna aliqua.\n",
      "#2: Lorem ipsum dolor sit amet, consectetur adipiscing elit, sed do eiusmod tempor incididunt ut labore et dolore magna aliqua.\n",
      "#3: Lorem ipsum dolor sit amet, consectetur adipiscing elit,\n",
      "sed do eiusmod tempor incididunt ut labore et dolore magna aliqua.\n"
     ]
    }
   ],
   "source": [
    "lorem_1 = 'Lorem ipsum dolor sit amet, consectetur adipiscing elit, sed do eiusmod tempor incididunt ut labore et dolore magna aliqua.'\n",
    "\n",
    "lorem_2 = 'Lorem ipsum dolor sit amet, consectetur adipiscing elit, '\\\n",
    "          'sed do eiusmod tempor incididunt ut labore et dolore magna '\\\n",
    "          'aliqua.'\n",
    "\n",
    "lorem_3 = '''Lorem ipsum dolor sit amet, consectetur adipiscing elit,\n",
    "sed do eiusmod tempor incididunt ut labore et dolore magna aliqua.'''\n",
    "print('#1:', lorem_1)\n",
    "print('#2:', lorem_2)\n",
    "print('#3:', lorem_3)"
   ]
  },
  {
   "cell_type": "code",
   "execution_count": 7,
   "metadata": {
    "slideshow": {
     "slide_type": "subslide"
    }
   },
   "outputs": [
    {
     "name": "stdout",
     "output_type": "stream",
     "text": [
      "#1. 0 1 2\n",
      "#2. 0 2 1\n",
      "#3.   3.14\n",
      "#4. Value of pi         is   3.14\n"
     ]
    }
   ],
   "source": [
    "print('#1. {0} {2} {1}'.format(0,2,1))\n",
    "print('#2. {} {} {}'.format(0,2,1))\n",
    "print('#3. {:6.2f}'.format(3.14159265))\n",
    "\n",
    "# f-strings are in Python >= 3.6\n",
    "var = 'pi'\n",
    "val = 3.14159265\n",
    "print(f'#4. Value of {var:10} is {val:6.2f}')"
   ]
  },
  {
   "cell_type": "code",
   "execution_count": 8,
   "metadata": {
    "slideshow": {
     "slide_type": "subslide"
    }
   },
   "outputs": [
    {
     "name": "stdout",
     "output_type": "stream",
     "text": [
      "HelloWorld!\n",
      "Hello1\n",
      "HelloHelloHelloHelloHelloWorld!World!World!World!World!\n"
     ]
    }
   ],
   "source": [
    "a = 'Hello'\n",
    "b = 'World!'\n",
    "\n",
    "print(a+b)\n",
    "# print(a-b)\n",
    "\n",
    "# print(a+1)\n",
    "print(a + str(1))\n",
    "\n",
    "# print(a*b)\n",
    "print(a * 5 + b * 5)"
   ]
  },
  {
   "cell_type": "markdown",
   "metadata": {
    "slideshow": {
     "slide_type": "slide"
    }
   },
   "source": [
    "## Types: numerical"
   ]
  },
  {
   "cell_type": "code",
   "execution_count": 9,
   "metadata": {
    "slideshow": {
     "slide_type": "fragment"
    }
   },
   "outputs": [
    {
     "name": "stdout",
     "output_type": "stream",
     "text": [
      "#1.  <class 'int'>\n",
      "#2. f1+f2\t= 3.3000000000000003\n",
      "#3. d1+d2\t= 3.3\n",
      "#4. d3\t= 0.1429\n",
      "#5. d4\t= 0.14285714285714285714285714285714285714285714285714285714285714285714285714285714285714285714285714285714285714285714285714285714\n"
     ]
    }
   ],
   "source": [
    "# Integers\n",
    "year = 2018\n",
    "print('#1. ', type(year))\n",
    "year = int('2018')\n",
    "\n",
    "# Floats\n",
    "pi = 3.14159265\n",
    "pi = float('3.14159265')\n",
    "\n",
    "f1, f2 = 1.1, 2.2\n",
    "print('#2. f1+f2\\t=', f1+f2)\n",
    "\n",
    "from decimal import Decimal, getcontext\n",
    "d1, d2 = Decimal('1.1'), Decimal('2.2')\n",
    "print('#3. d1+d2\\t=', d1+d2)\n",
    "\n",
    "getcontext().prec = 4\n",
    "d3 = Decimal(1) / Decimal(7)\n",
    "print('#4. d3\\t=', d3)\n",
    "getcontext().prec = 128\n",
    "d4 = Decimal(1) / Decimal(7)\n",
    "print('#5. d4\\t=', d4)"
   ]
  },
  {
   "cell_type": "markdown",
   "metadata": {
    "slideshow": {
     "slide_type": "slide"
    }
   },
   "source": [
    "## Types: lists\n",
    "\n",
    "* equivalent of an array\n",
    "* is resizeable\n",
    "* can contain elements of different types"
   ]
  },
  {
   "cell_type": "code",
   "execution_count": 10,
   "metadata": {
    "slideshow": {
     "slide_type": "fragment"
    }
   },
   "outputs": [
    {
     "name": "stdout",
     "output_type": "stream",
     "text": [
      "#1: [1, True, 'Hello World!'] Hello World!\n",
      "#2: Hello World!\n",
      "#3: [1, True, 'foo']\n",
      "#4: [1, True, 'foo', 'bar']\n",
      "#5: [1, True, 'foo'] bar\n",
      "#6: 1 [True, 'foo']\n"
     ]
    }
   ],
   "source": [
    "l = [1, True, \"Hello World!\"]\n",
    "print('#1:', l, l[2])\n",
    "print('#2:', l[-1])\n",
    "l[2] = 'foo'\n",
    "print('#3:', l)\n",
    "l.append('bar')\n",
    "print('#4:', l)\n",
    "x = l.pop()\n",
    "print('#5:', l, x)\n",
    "x = l.pop(0)\n",
    "print('#6:', x, l)"
   ]
  },
  {
   "cell_type": "code",
   "execution_count": 11,
   "metadata": {
    "slideshow": {
     "slide_type": "subslide"
    }
   },
   "outputs": [
    {
     "name": "stdout",
     "output_type": "stream",
     "text": [
      "#1:  range(0, 5) <class 'range'>\n",
      "#2:  [0, 1, 2, 3, 4] <class 'list'>\n",
      "#3:  [2, 3, 4]\n",
      "#4:  [1, 3, 5, 7, 9]\n"
     ]
    }
   ],
   "source": [
    "nums = range(5)\n",
    "print('#1: ', nums, type(nums))\n",
    "nums = list(nums)\n",
    "print('#2: ', nums, type(nums))\n",
    "print('#3: ', list(range(2,5)))\n",
    "print('#4: ', list(range(1,10,2)))"
   ]
  },
  {
   "cell_type": "code",
   "execution_count": 12,
   "metadata": {
    "slideshow": {
     "slide_type": "subslide"
    }
   },
   "outputs": [
    {
     "name": "stdout",
     "output_type": "stream",
     "text": [
      "list(s) = ['H', 'e', 'l', 'l', 'o', ' ', 'W', 'o', 'r', 'l', 'd', '!']\n",
      "s.split(' ') = ['Hello', 'World!']\n",
      "l.insert(1, 'New') ['Hello', 'New', 'World!']\n",
      "' '.join(l) = Hello New World!\n"
     ]
    }
   ],
   "source": [
    "s = 'Hello World!'\n",
    "\n",
    "# as long as the object is iterable, you can cast it to the list\n",
    "print('list(s) =', list(s))\n",
    "\n",
    "l = s.split(' ')\n",
    "print('s.split(\\' \\') =', s.split(' '))\n",
    "\n",
    "l.insert(1, 'New')\n",
    "print('l.insert(1, \\'New\\')', l)\n",
    "\n",
    "s = ' '.join(l)\n",
    "print('\\' \\'.join(l) =', s)"
   ]
  },
  {
   "cell_type": "code",
   "execution_count": 13,
   "metadata": {
    "slideshow": {
     "slide_type": "subslide"
    }
   },
   "outputs": [
    {
     "name": "stdout",
     "output_type": "stream",
     "text": [
      "list(range(5)) = [0, 1, 2, 3, 4]\n",
      "list(reversed(l)) = [4, 3, 2, 1, 0]\n",
      "sorted(l) = [0, 1, 2, 3, 4]\n"
     ]
    }
   ],
   "source": [
    "l = list(range(5))\n",
    "print('list(range(5)) =', l)\n",
    "\n",
    "l = list(reversed(l))\n",
    "print('list(reversed(l)) =', l)\n",
    "\n",
    "l = sorted(l)\n",
    "print('sorted(l) =', l)"
   ]
  },
  {
   "cell_type": "code",
   "execution_count": 14,
   "metadata": {
    "slideshow": {
     "slide_type": "subslide"
    }
   },
   "outputs": [
    {
     "name": "stdout",
     "output_type": "stream",
     "text": [
      "list(zip(a, b)) = [(1, 4), (2, 5), (3, 6)]\n",
      "x=(1, 4) y=(2, 5) z=(3, 6)\n"
     ]
    }
   ],
   "source": [
    "a = [1,2,3]\n",
    "b = [4,5,6]\n",
    "c = list(zip(a, b))\n",
    "print('list(zip(a, b)) =', c)\n",
    "\n",
    "x, y, z = c\n",
    "print(f'x={x} y={y} z={z}')"
   ]
  },
  {
   "cell_type": "code",
   "execution_count": 15,
   "metadata": {
    "slideshow": {
     "slide_type": "subslide"
    }
   },
   "outputs": [
    {
     "name": "stdout",
     "output_type": "stream",
     "text": [
      "a+b = [1, 2, 3, 4, 5, 6]\n",
      "a*5 = [1, 2, 3, 1, 2, 3, 1, 2, 3, 1, 2, 3, 1, 2, 3]\n"
     ]
    }
   ],
   "source": [
    "a = [1,2,3]\n",
    "b = [4,5,6]\n",
    "print('a+b =', a+b)\n",
    "print('a*5 =', a*5)"
   ]
  },
  {
   "cell_type": "markdown",
   "metadata": {
    "slideshow": {
     "slide_type": "slide"
    }
   },
   "source": [
    "## Loops"
   ]
  },
  {
   "cell_type": "code",
   "execution_count": 16,
   "metadata": {
    "slideshow": {
     "slide_type": "fragment"
    }
   },
   "outputs": [
    {
     "name": "stdout",
     "output_type": "stream",
     "text": [
      "[0, 4, 16]\n",
      "0: 0; 1: 1; 2: 4; 3: 9; 4: 16; "
     ]
    }
   ],
   "source": [
    "X = [0, 1, 2, 3, 4, 5]\n",
    "X_even_sqr = []\n",
    "for x in X:\n",
    "    if x%2==0:\n",
    "        X_even_sqr.append(x**2)\n",
    "print(X_even_sqr)\n",
    "\n",
    "l = list(range(5))\n",
    "for idx, val in enumerate(l):\n",
    "    print('{}: {}'.format(idx, val**2), end='; ')"
   ]
  },
  {
   "cell_type": "markdown",
   "metadata": {
    "slideshow": {
     "slide_type": "slide"
    }
   },
   "source": [
    "## List comprehension"
   ]
  },
  {
   "cell_type": "code",
   "execution_count": 17,
   "metadata": {
    "slideshow": {
     "slide_type": "fragment"
    }
   },
   "outputs": [
    {
     "name": "stdout",
     "output_type": "stream",
     "text": [
      "[0, 4, 16]\n"
     ]
    }
   ],
   "source": [
    "X = X = [0, 1, 2, 3, 4, 5]\n",
    "X_even_sqr = [even_sqr**2 for even_sqr in X if even_sqr%2==0]\n",
    "print(X_even_sqr)"
   ]
  },
  {
   "cell_type": "markdown",
   "metadata": {
    "slideshow": {
     "slide_type": "slide"
    }
   },
   "source": [
    "## List slicing"
   ]
  },
  {
   "cell_type": "code",
   "execution_count": 18,
   "metadata": {
    "slideshow": {
     "slide_type": "fragment"
    }
   },
   "outputs": [
    {
     "name": "stdout",
     "output_type": "stream",
     "text": [
      "nums =\t\t [0, 1, 2, 3, 4]\n",
      "nums[2:4] =\t [2, 3]\n",
      "nums[2:] =\t [2, 3, 4]\n",
      "nums[:2] =\t [0, 1]\n",
      "nums[:] =\t [0, 1, 2, 3, 4]\n",
      "nums[:-1] =\t [0, 1, 2, 3]\n",
      "nums[2:4]=[8, 9] = [0, 1, 8, 9, 4]\n"
     ]
    }
   ],
   "source": [
    "nums = list(range(5))\n",
    "print('nums =\\t\\t', nums)\n",
    "print('nums[2:4] =\\t', nums[2:4])     \n",
    "print('nums[2:] =\\t', nums[2:])      \n",
    "print('nums[:2] =\\t', nums[:2])      \n",
    "print('nums[:] =\\t', nums[:])       \n",
    "print('nums[:-1] =\\t', nums[:-1])\n",
    "nums[2:4] = [8, 9]\n",
    "print('nums[2:4]=[8, 9] =', nums)"
   ]
  },
  {
   "cell_type": "code",
   "execution_count": 19,
   "metadata": {
    "slideshow": {
     "slide_type": "subslide"
    }
   },
   "outputs": [
    {
     "name": "stdout",
     "output_type": "stream",
     "text": [
      "nums =\t\t [0, 1, 2, 3, 4, 5, 6, 7, 8, 9]\n",
      "nums =\t\t [0, 2, 4, 6, 8]\n",
      "nums =\t\t [9, 8, 7, 6, 5, 4, 3, 2, 1, 0]\n",
      "nums =\t\t [9, 7, 5, 3, 1]\n",
      "nums =\t\t [2, 4]\n"
     ]
    }
   ],
   "source": [
    "nums = list(range(10))\n",
    "print('nums =\\t\\t', nums)\n",
    "print('nums =\\t\\t', nums[::2])\n",
    "print('nums =\\t\\t', nums[::-1])\n",
    "print('nums =\\t\\t', nums[::-2])\n",
    "print('nums =\\t\\t', nums[2:6:2])"
   ]
  },
  {
   "cell_type": "code",
   "execution_count": 20,
   "metadata": {
    "slideshow": {
     "slide_type": "subslide"
    }
   },
   "outputs": [
    {
     "name": "stdout",
     "output_type": "stream",
     "text": [
      "[(0, 0), (1, 0), (2, 0)]\n",
      "[(0, 1), (1, 1), (2, 1)]\n",
      "[(0, 2), (1, 2), (2, 2)]\n",
      "1st row:\t [(0, 0), (1, 0), (2, 0)]\n",
      "2nd & 3rd rows:\t [[(0, 1), (1, 1), (2, 1)], [(0, 2), (1, 2), (2, 2)]]\n",
      "1st & 2nd cols:\t [[(0, 0), (1, 0), (2, 0)], [(0, 1), (1, 1), (2, 1)]]\n",
      "[(0, 0), (1, 0)]\n",
      "[(0, 1), (1, 1)]\n",
      "[(0, 2), (1, 2)]\n",
      "\n"
     ]
    }
   ],
   "source": [
    "list_2d = [[(x,y) for x in range(3)] for y in range(3)]\n",
    "[print(row) for row in list_2d]\n",
    "print('1st row:\\t', list_2d[0])\n",
    "print('2nd & 3rd rows:\\t', list_2d[1:][:])\n",
    "print('1st & 2nd cols:\\t', list_2d[:][:2])  # won't work :(\n",
    "[print(row[:2]) for row in list_2d[:]]\n",
    "print()"
   ]
  },
  {
   "cell_type": "markdown",
   "metadata": {
    "slideshow": {
     "slide_type": "slide"
    }
   },
   "source": [
    "## Types: dictionaries\n",
    "\n",
    "* similar to `Map` in Java.\n",
    "* stores a list of pairs <Key, Value>\n",
    "* Any hashable object can be used as a key in dictionary"
   ]
  },
  {
   "cell_type": "code",
   "execution_count": 21,
   "metadata": {
    "slideshow": {
     "slide_type": "fragment"
    }
   },
   "outputs": [
    {
     "name": "stdout",
     "output_type": "stream",
     "text": [
      "#1. {'intel': 'awesome', 'maciej': 'poor'}\n",
      "#2. awesome\n",
      "#3. {'intel': 'awesome', 'maciej': 'poor', (1, 0): False}\n",
      "#4. poor\n",
      "#5. N/A\n",
      "#6. {'intel': 'awesome', (1, 0): False}\n"
     ]
    }
   ],
   "source": [
    "employers = {'intel': 'awesome', 'maciej': 'poor'}\n",
    "print('#1.', employers)\n",
    "print('#2.', employers['intel'])\n",
    "employers[(1,0)] = False\n",
    "print('#3.', employers)\n",
    "print('#4.', employers.get('maciej', 'N/A'))\n",
    "print('#5.', employers.get('alfred', 'N/A'))\n",
    "del employers['maciej']\n",
    "print('#6.', employers)"
   ]
  },
  {
   "cell_type": "code",
   "execution_count": 22,
   "metadata": {
    "slideshow": {
     "slide_type": "subslide"
    }
   },
   "outputs": [
    {
     "name": "stdout",
     "output_type": "stream",
     "text": [
      "intel is a/an awesome employer\n",
      "maciej is a/an poor employer\n"
     ]
    }
   ],
   "source": [
    "employers = {'intel': 'awesome', 'maciej': 'poor'}\n",
    "for employer in employers:\n",
    "    print('{} is a/an {} employer'.format(employer, employers[employer]))"
   ]
  },
  {
   "cell_type": "code",
   "execution_count": 23,
   "metadata": {
    "slideshow": {
     "slide_type": "fragment"
    }
   },
   "outputs": [
    {
     "name": "stdout",
     "output_type": "stream",
     "text": [
      "#1. <class 'dict_keys'> dict_keys(['intel', 'maciej'])\n",
      "#2. <class 'dict_values'> dict_values(['awesome', 'poor'])\n",
      "#3. <class 'dict_items'> dict_items([('intel', 'awesome'), ('maciej', 'poor')])\n",
      "intel is a/an awesome employer\n",
      "maciej is a/an poor employer\n"
     ]
    }
   ],
   "source": [
    "print('#1.', type(employers.keys()), employers.keys())\n",
    "print('#2.', type(employers.values()), employers.values())\n",
    "print('#3.', type(employers.items()), employers.items())\n",
    "for employer, quality in employers.items():\n",
    "    print('{} is a/an {} employer'.format(employer, quality))"
   ]
  },
  {
   "cell_type": "code",
   "execution_count": 24,
   "metadata": {
    "slideshow": {
     "slide_type": "fragment"
    }
   },
   "outputs": [
    {
     "name": "stdout",
     "output_type": "stream",
     "text": [
      "{1: 1, 3: 9}\n"
     ]
    }
   ],
   "source": [
    "odd_sqrs = {x: x**2 for x in range(5) if x%2}\n",
    "print(odd_sqrs)"
   ]
  },
  {
   "cell_type": "markdown",
   "metadata": {
    "slideshow": {
     "slide_type": "slide"
    }
   },
   "source": [
    "## Types: sets\n",
    "* set is a collection of distinct elements."
   ]
  },
  {
   "cell_type": "code",
   "execution_count": 25,
   "metadata": {
    "slideshow": {
     "slide_type": "fragment"
    }
   },
   "outputs": [
    {
     "name": "stdout",
     "output_type": "stream",
     "text": [
      "#1. <class 'set'> {'Saturday'}\n",
      "#2. {'Saturday', 'Sunday'}\n",
      "#3. {'Saturday', 'Sunday'}\n",
      "#4. {'Saturday'}\n"
     ]
    }
   ],
   "source": [
    "weekend = {'Saturday'}\n",
    "print('#1.', type(weekend), weekend)\n",
    "weekend.add('Sunday')\n",
    "print('#2.', weekend)\n",
    "weekend.add('Sunday')\n",
    "print('#3.', weekend)\n",
    "weekend.remove('Sunday')\n",
    "print('#4.', weekend)"
   ]
  },
  {
   "cell_type": "markdown",
   "metadata": {
    "slideshow": {
     "slide_type": "slide"
    }
   },
   "source": [
    "## Types: tuple\n",
    "\n",
    "* tuple is an immutable ordered list of items\n",
    "* tuples can be used as a key in dictionary (lists cannot - ther are not hashable). Tuple is hashable if all elements are hashable."
   ]
  },
  {
   "cell_type": "code",
   "execution_count": 26,
   "metadata": {
    "slideshow": {
     "slide_type": "fragment"
    }
   },
   "outputs": [
    {
     "name": "stdout",
     "output_type": "stream",
     "text": [
      "#1. <class 'tuple'> (1, True, 'Hello World!')\n",
      "#2. (1, True)\n",
      "#3. Dict: {(0, 1): 0, (1, 2): 1, (2, 3): 2, (3, 4): 3, (4, 5): 4}\n",
      "#4. 2\n"
     ]
    }
   ],
   "source": [
    "t = (1, True, 'Hello World!')\n",
    "print('#1.', type(t), t)\n",
    "print('#2.', t[:2])\n",
    "# 'tuple' object does not support item assignment\n",
    "# t[0] = 0\n",
    "\n",
    "# Create a dictionary with tuple keys\n",
    "d = {(x, x + 1): x for x in range(5)}\n",
    "print('#3. Dict:', d)\n",
    "key = (2, 3)\n",
    "print('#4.', d[key])"
   ]
  },
  {
   "cell_type": "markdown",
   "metadata": {
    "slideshow": {
     "slide_type": "slide"
    }
   },
   "source": [
    "## Pass\n",
    "\n",
    "* It is used when a statement is required syntactically but you do not want any command or code to execute.\n",
    "* The `pass` statement is a null operation; nothing happens when it executes.\n",
    "* The `pass` is also useful in places where your code will eventually go, but has not been written yet."
   ]
  },
  {
   "cell_type": "code",
   "execution_count": 27,
   "metadata": {
    "slideshow": {
     "slide_type": "fragment"
    }
   },
   "outputs": [],
   "source": [
    "def fun(n):\n",
    "    pass\n",
    "\n",
    "try:\n",
    "    v = 1/0\n",
    "except:\n",
    "    pass"
   ]
  },
  {
   "cell_type": "markdown",
   "metadata": {
    "slideshow": {
     "slide_type": "slide"
    }
   },
   "source": [
    "## Operators (only the non-standard ones)"
   ]
  },
  {
   "cell_type": "code",
   "execution_count": 1,
   "metadata": {
    "slideshow": {
     "slide_type": "fragment"
    }
   },
   "outputs": [
    {
     "name": "stdout",
     "output_type": "stream",
     "text": [
      "Arithmetic\n",
      "Power \t\t3**2 =\t 9\n",
      "Floor division \t3//2 =\t 1\n",
      "\n",
      "Increment\n",
      "No i++, only i+=1\n",
      "\n",
      "Membership\n",
      "1 in [1,2,3] =\t\t True\n",
      "0 not in [1,2,3] =\t True\n",
      "\n",
      "Identity\n",
      "x is y, x is not z = False False\n"
     ]
    }
   ],
   "source": [
    "print('Arithmetic')\n",
    "print('Power \\t\\t3**2 =\\t', 3**2)\n",
    "print('Floor division \\t3//2 =\\t', 3//2)\n",
    "\n",
    "print('\\nIncrement')\n",
    "print('No i++, only i+=1')\n",
    "\n",
    "print('\\nMembership')\n",
    "print('1 in [1,2,3] =\\t\\t', 1 in [1,2,3])\n",
    "print('0 not in [1,2,3] =\\t', 0 not in [1,2,3])\n",
    "\n",
    "print('\\nIdentity')\n",
    "x = [1]\n",
    "y = [1]\n",
    "z = x\n",
    "print('x is y, x is not z =', x is y, x is not z)"
   ]
  },
  {
   "cell_type": "markdown",
   "metadata": {
    "slideshow": {
     "slide_type": "slide"
    }
   },
   "source": [
    "## Some examples"
   ]
  },
  {
   "cell_type": "code",
   "execution_count": 29,
   "metadata": {
    "slideshow": {
     "slide_type": "fragment"
    }
   },
   "outputs": [
    {
     "name": "stdout",
     "output_type": "stream",
     "text": [
      "Reverse words in a given string. \n",
      " string. given a in words Reverse \n",
      "\n",
      "a = 2 b = 1\n"
     ]
    }
   ],
   "source": [
    "s = 'Reverse words in a given string.'\n",
    "r = ' '.join(s.split(' ')[::-1])\n",
    "print(s, '\\n', r, '\\n')\n",
    "\n",
    "# Given two variables, swap the values without using 3rd variable.\n",
    "a = 1\n",
    "b = 2\n",
    "a, b = b, a\n",
    "print('a =', a, 'b =', b)"
   ]
  },
  {
   "cell_type": "markdown",
   "metadata": {
    "slideshow": {
     "slide_type": "slide"
    }
   },
   "source": [
    "## Functions"
   ]
  },
  {
   "cell_type": "code",
   "execution_count": 30,
   "metadata": {
    "slideshow": {
     "slide_type": "fragment"
    }
   },
   "outputs": [
    {
     "name": "stdout",
     "output_type": "stream",
     "text": [
      "sum(a, b) = 16\n",
      "pow2_sum(4, 12) = 256\n"
     ]
    }
   ],
   "source": [
    "def sum(a, b):\n",
    "    return a+b\n",
    "\n",
    "print('sum(a, b) =', sum(4, 12))\n",
    "\n",
    "def pow2_sum(a, b):\n",
    "    def pow2(c):\n",
    "        return c*c\n",
    "    return pow2(a+b)\n",
    "\n",
    "print('pow2_sum(4, 12) =', pow2_sum(4, 12))"
   ]
  },
  {
   "cell_type": "code",
   "execution_count": 31,
   "metadata": {
    "slideshow": {
     "slide_type": "subslide"
    }
   },
   "outputs": [
    {
     "name": "stdout",
     "output_type": "stream",
     "text": [
      "<function fun_1.<locals>.fun_2 at 0xb3f1179d8>\n",
      "fun_2: Hello!\n",
      "<function fun_1.<locals>.fun_3 at 0xb3f1501e0>\n",
      "fun_3: Hello!\n"
     ]
    }
   ],
   "source": [
    "def fun_1(a):\n",
    "    def fun_2(b):\n",
    "        return 'fun_2: {}'.format(b)\n",
    "    def fun_3(b):\n",
    "        return 'fun_3: {}'.format(b)\n",
    "    if a:\n",
    "        return fun_2\n",
    "    else:\n",
    "        return fun_3\n",
    "\n",
    "f = fun_1(True)\n",
    "print(f)\n",
    "print(f('Hello!'))\n",
    "f = fun_1(False)\n",
    "print(f)\n",
    "print(f('Hello!'))"
   ]
  },
  {
   "cell_type": "code",
   "execution_count": 32,
   "metadata": {
    "slideshow": {
     "slide_type": "subslide"
    }
   },
   "outputs": [
    {
     "name": "stdout",
     "output_type": "stream",
     "text": [
      "5\n",
      "5\n",
      "15\n"
     ]
    }
   ],
   "source": [
    "a = 5\n",
    "\n",
    "def fun_local():\n",
    "    a = 10\n",
    "\n",
    "def fun_global():\n",
    "    global a\n",
    "    a = 15\n",
    "\n",
    "print(a)\n",
    "fun_local()\n",
    "print(a)\n",
    "fun_global()\n",
    "print(a)"
   ]
  },
  {
   "cell_type": "code",
   "execution_count": 33,
   "metadata": {
    "slideshow": {
     "slide_type": "subslide"
    }
   },
   "outputs": [
    {
     "name": "stdout",
     "output_type": "stream",
     "text": [
      "\n",
      "fun_2(1, 2):\n",
      "fun_2: len(args) = 2\n",
      "fun_2: args = (1, 2)\n",
      "\n",
      "fun_2(params), params = [1, 2, 3]:\n",
      "fun_2: len(args) = 1\n",
      "fun_2: args = ([1, 2, 3],)\n",
      "\n",
      "fun_2(*params), params = [1, 2, 3]:\n",
      "fun_2: len(args) = 3\n",
      "fun_2: args = (1, 2, 3)\n"
     ]
    }
   ],
   "source": [
    "def fun_1(a, b, c=None):\n",
    "    return 'fun_1: {} {} {}'.format(a, b, c)\n",
    "\n",
    "fun_1(1, 2)\n",
    "fun_1(1, 2, 3)\n",
    "print()\n",
    "\n",
    "def fun_2(*args):\n",
    "    return ('fun_2: len(args) = {}\\nfun_2: args = {}'.format(len(args), args))\n",
    "\n",
    "print('fun_2(1, 2):')\n",
    "print(fun_2(1, 2), end='\\n\\n')\n",
    "\n",
    "params = [1, 2, 3]\n",
    "print('fun_2(params), params = [1, 2, 3]:')\n",
    "print(fun_2(params), end='\\n\\n')\n",
    "print('fun_2(*params), params = [1, 2, 3]:')\n",
    "print(fun_2(*params))"
   ]
  },
  {
   "cell_type": "code",
   "execution_count": 34,
   "metadata": {
    "slideshow": {
     "slide_type": "subslide"
    }
   },
   "outputs": [
    {
     "name": "stdout",
     "output_type": "stream",
     "text": [
      "fun_3(a=1, b='Hello world')\n",
      "fun_3: len(kwargs) = 2\n",
      "fun_3: kwargs = {'a': 1, 'b': 'Hello world'}\n",
      "\n",
      "fun_3(**d), d = {'a': 1, 'b': 2}\n",
      "fun_3: len(kwargs) = 2\n",
      "fun_3: kwargs = {'a': 1, 'b': 2}\n",
      "\n",
      "fun_4(3, a=1, b='Hello world')\n",
      "fun_4: len(args) = 1\n",
      "fun_4: args = (3,)\n",
      "fun_4: len(kwargs) = 2\n",
      "fun_4: kwargs = {'a': 1, 'b': 'Hello world'}\n",
      "\n"
     ]
    }
   ],
   "source": [
    "def fun_3(**kwargs):\n",
    "    return 'fun_3: len(kwargs) = {}\\nfun_3: kwargs = {}'.format(len(kwargs), kwargs)\n",
    "\n",
    "print('fun_3(a=1, b=\\'Hello world\\')')\n",
    "print(fun_3(a=1, b='Hello world'), end='\\n\\n')\n",
    "\n",
    "d = {'a': 1, 'b': 2}\n",
    "print('fun_3(**d), d = {\\'a\\': 1, \\'b\\': 2}')\n",
    "print(fun_3(**d), end='\\n\\n')\n",
    "\n",
    "def fun_4(*args, **kwargs):\n",
    "    return 'fun_4: len(args) = {}\\n' \\\n",
    "        'fun_4: args = {}\\n' \\\n",
    "        'fun_4: len(kwargs) = {}\\n' \\\n",
    "        'fun_4: kwargs = {}\\n' \\\n",
    "        ''.format(len(args), args, len(kwargs), kwargs)\n",
    "\n",
    "print('fun_4(3, a=1, b=\\'Hello world\\')')\n",
    "print(fun_4(3, a=1, b='Hello world'))"
   ]
  },
  {
   "cell_type": "markdown",
   "metadata": {
    "slideshow": {
     "slide_type": "slide"
    }
   },
   "source": [
    "## Anonymous/Lambda function"
   ]
  },
  {
   "cell_type": "code",
   "execution_count": 35,
   "metadata": {
    "slideshow": {
     "slide_type": "fragment"
    }
   },
   "outputs": [
    {
     "name": "stdout",
     "output_type": "stream",
     "text": [
      "pow2(2) = 4\n",
      "pow2_lambda(2) = 4\n"
     ]
    }
   ],
   "source": [
    "def pow2(x):\n",
    "    return x ** 2\n",
    "\n",
    "print('pow2(2) =', pow2(2))\n",
    "\n",
    "pow2_lambda = lambda x: x ** 2\n",
    "print('pow2_lambda(2) =', pow2(2))"
   ]
  },
  {
   "cell_type": "markdown",
   "metadata": {
    "slideshow": {
     "slide_type": "subslide"
    }
   },
   "source": [
    "* __filter(function, list)__ - returns a list which contains items for which the function evaluates to True.\n",
    "  \n",
    "* __map(function, list)__ - returns a list which contains items returned by that function for each item."
   ]
  },
  {
   "cell_type": "code",
   "execution_count": 36,
   "metadata": {
    "slideshow": {
     "slide_type": "fragment"
    }
   },
   "outputs": [
    {
     "name": "stdout",
     "output_type": "stream",
     "text": [
      "l_even = [4, 6, 8, 12]\n",
      "l_pow2 = [1, 25, 16, 36, 64, 121, 9, 144]\n"
     ]
    }
   ],
   "source": [
    "l = [1, 5, 4, 6, 8, 11, 3, 12]\n",
    "l_even = list(filter(lambda x: (x%2 == 0) , l))\n",
    "print('l_even =', l_even)\n",
    "\n",
    "l_pow2 = list(map(lambda x: x ** 2 , l))\n",
    "\n",
    "print('l_pow2 =', l_pow2)"
   ]
  },
  {
   "cell_type": "markdown",
   "metadata": {
    "slideshow": {
     "slide_type": "slide"
    }
   },
   "source": [
    "## Classes"
   ]
  },
  {
   "cell_type": "code",
   "execution_count": 37,
   "metadata": {
    "slideshow": {
     "slide_type": "fragment"
    }
   },
   "outputs": [
    {
     "name": "stdout",
     "output_type": "stream",
     "text": [
      "Hello, Brzęczyszczykiewicz\n"
     ]
    }
   ],
   "source": [
    "class User:\n",
    "    def __init__(self, name):\n",
    "        self._name = name\n",
    "    \n",
    "    def greet(self):\n",
    "        print('Hello,', self._name)\n",
    "\n",
    "u = User('Brzęczyszczykiewicz')\n",
    "u.greet()"
   ]
  },
  {
   "cell_type": "code",
   "execution_count": 38,
   "metadata": {
    "scrolled": true,
    "slideshow": {
     "slide_type": "subslide"
    }
   },
   "outputs": [
    {
     "name": "stdout",
     "output_type": "stream",
     "text": [
      "Hello, Konstantynopolitanczykowianeczka\n",
      "Konstantynopolitanczykowianeczka @ admin\n"
     ]
    }
   ],
   "source": [
    "class SuperUser(User):\n",
    "    def __init__(self, name, role='admin'):\n",
    "        super().__init__(name)\n",
    "        self._role = role\n",
    "\n",
    "    def __str__(self):\n",
    "        return '{} @ {}'.format(self._name, self._role)\n",
    "\n",
    "su = SuperUser('Konstantynopolitanczykowianeczka')\n",
    "su.greet()\n",
    "print(su)"
   ]
  },
  {
   "cell_type": "markdown",
   "metadata": {
    "slideshow": {
     "slide_type": "slide"
    }
   },
   "source": [
    "## Docstrings"
   ]
  },
  {
   "cell_type": "markdown",
   "metadata": {
    "slideshow": {
     "slide_type": "slide"
    }
   },
   "source": [
    "## Exceptions"
   ]
  },
  {
   "cell_type": "code",
   "execution_count": 39,
   "metadata": {
    "slideshow": {
     "slide_type": "fragment"
    }
   },
   "outputs": [
    {
     "name": "stdout",
     "output_type": "stream",
     "text": [
      "Value Exception! math domain error\n",
      "a: -1\n",
      "b: hello\n",
      "c: 0\n"
     ]
    }
   ],
   "source": [
    "import math\n",
    "\n",
    "a = -1\n",
    "b = 'text'\n",
    "c = 0\n",
    "try:\n",
    "    b = 'hello'\n",
    "    c = 1 + math.sqrt(a)  # ValueError: sqrt(-1)\n",
    "    c += b  # TypeError: adding different types\n",
    "except ValueError as ve:\n",
    "    print('Value Exception!', ve)\n",
    "except TypeError as te:\n",
    "    print('Type Exception!', te)\n",
    "except Exception as ex:\n",
    "    print('All other exceptions')\n",
    "finally:\n",
    "    print('a:', a)\n",
    "    print('b:', b)\n",
    "    print('c:', c)"
   ]
  },
  {
   "cell_type": "markdown",
   "metadata": {
    "slideshow": {
     "slide_type": "subslide"
    }
   },
   "source": [
    "Most commonly used types of exceptions:\n",
    "* __Except__ - main exception class; all other exceptions inherit from it\n",
    "* __ArithmeticError__ - arithmetic errors; *1/0*\n",
    "* __IOError__ - file access errors, reading unaccasible file\n",
    "* __ImportError__ - import of unexisting/not installed package\n",
    "* __IndexError__ - access to list item that does not exist\n",
    "* __KeyError__ - access to dict's key that does not exist\n",
    "* __TypeError__ - invalid operation on given data type/s; *'1'+1*\n",
    "* __ValueError__ - given object has proper type, but wrong value; *sqrt(-1)*"
   ]
  },
  {
   "cell_type": "markdown",
   "metadata": {
    "slideshow": {
     "slide_type": "slide"
    }
   },
   "source": [
    "## Decorators"
   ]
  },
  {
   "cell_type": "code",
   "execution_count": 40,
   "metadata": {
    "slideshow": {
     "slide_type": "fragment"
    }
   },
   "outputs": [],
   "source": [
    "import time\n",
    "\n",
    "# Decorator definition\n",
    "def timeit(function):\n",
    "    def timed(*args, **kwargs):\n",
    "        tick = time.time()\n",
    "        result = function(*args, **kwargs)\n",
    "        print('Function {}({}) exec time is: {:6.5f}ms'.format(function.__name__, *args, time.time()-tick))\n",
    "        return result\n",
    "    return timed\n",
    "\n",
    "calls = {}\n",
    "def count_calls(function):\n",
    "    def counter(*args, **kwargs):\n",
    "        global calls\n",
    "        try:\n",
    "            calls[function.__name__] += 1\n",
    "        except:\n",
    "            calls[function.__name__] = 1\n",
    "        result = function(*args, **kwargs)\n",
    "        return result\n",
    "    return counter"
   ]
  },
  {
   "cell_type": "code",
   "execution_count": 41,
   "metadata": {
    "slideshow": {
     "slide_type": "subslide"
    }
   },
   "outputs": [
    {
     "name": "stdout",
     "output_type": "stream",
     "text": [
      "Function fibonacci(1) exec time is: 0.00000ms\n",
      "Function fibonacci(0) exec time is: 0.00000ms\n",
      "Function fibonacci(1) exec time is: 0.00000ms\n",
      "Function fibonacci(2) exec time is: 0.00044ms\n",
      "Function fibonacci(3) exec time is: 0.00053ms\n",
      "Function fibonacci(0) exec time is: 0.00000ms\n",
      "Function fibonacci(1) exec time is: 0.00000ms\n",
      "Function fibonacci(2) exec time is: 0.00003ms\n",
      "Function fibonacci(1) exec time is: 0.00000ms\n",
      "Function fibonacci(0) exec time is: 0.00000ms\n",
      "Function fibonacci(1) exec time is: 0.00000ms\n",
      "Function fibonacci(2) exec time is: 0.00005ms\n",
      "Function fibonacci(3) exec time is: 0.00016ms\n",
      "Function fibonacci(4) exec time is: 0.00022ms\n",
      "Function fibonacci(5) exec time is: 0.00081ms\n",
      "Result: 5\n"
     ]
    }
   ],
   "source": [
    "@timeit\n",
    "def fibonacci(n):\n",
    "    if n<=1:\n",
    "        return n\n",
    "    return fibonacci(n-2) + fibonacci(n-1)\n",
    "\n",
    "print('Result:', fibonacci(5))"
   ]
  },
  {
   "cell_type": "code",
   "execution_count": 42,
   "metadata": {
    "slideshow": {
     "slide_type": "subslide"
    }
   },
   "outputs": [
    {
     "name": "stdout",
     "output_type": "stream",
     "text": [
      "Result: 2178309\n",
      "Result: 2178309\n",
      "{'fibonacci': 7049155, 'cached_fibonacci': 63}\n"
     ]
    }
   ],
   "source": [
    "@count_calls\n",
    "def fibonacci(n):\n",
    "    if n<=1:\n",
    "        return n\n",
    "    return fibonacci(n-2) + fibonacci(n-1)\n",
    "\n",
    "cache = []\n",
    "@count_calls\n",
    "def cached_fibonacci(n, cache={0:1,1:1}):\n",
    "    if n<=1:\n",
    "        return n\n",
    "    try:\n",
    "        result = cache[n]\n",
    "        return result\n",
    "    except:\n",
    "        result = cached_fibonacci(n-1, cache) + cached_fibonacci(n-2, cache)                                                                        \n",
    "        cache[n] = result                                                                                                 \n",
    "        return result \n",
    "    \n",
    "print('Result:', fibonacci(32))\n",
    "print('Result:', cached_fibonacci(32))\n",
    "print(calls)"
   ]
  },
  {
   "cell_type": "markdown",
   "metadata": {
    "slideshow": {
     "slide_type": "slide"
    }
   },
   "source": [
    "## Generators (C++: Input Iterator)"
   ]
  },
  {
   "cell_type": "code",
   "execution_count": 43,
   "metadata": {
    "slideshow": {
     "slide_type": "fragment"
    }
   },
   "outputs": [
    {
     "name": "stdout",
     "output_type": "stream",
     "text": [
      "1\n",
      "1\n",
      "2\n",
      "3\n",
      "5\n",
      "8\n",
      "13\n",
      "21\n",
      "34\n",
      "55\n"
     ]
    }
   ],
   "source": [
    "def fibonacci_generator(n):\n",
    "    a, b = 1, 1\n",
    "    while 1:\n",
    "        yield a\n",
    "        a, b = b, a + b\n",
    "\n",
    "import types\n",
    "if type(fibonacci_generator(1)) == types.GeneratorType:\n",
    "    for idx, n in enumerate(fibonacci_generator(10000000)):\n",
    "        print(n)\n",
    "        if idx == 9:\n",
    "            break"
   ]
  },
  {
   "cell_type": "markdown",
   "metadata": {
    "slideshow": {
     "slide_type": "slide"
    }
   },
   "source": [
    "# NumPy"
   ]
  },
  {
   "cell_type": "markdown",
   "metadata": {
    "slideshow": {
     "slide_type": "slide"
    }
   },
   "source": [
    "## NumPy arrays"
   ]
  },
  {
   "cell_type": "code",
   "execution_count": 44,
   "metadata": {
    "slideshow": {
     "slide_type": "fragment"
    }
   },
   "outputs": [
    {
     "name": "stdout",
     "output_type": "stream",
     "text": [
      "type(a), a = <class 'numpy.ndarray'> [1 2 3]\n",
      "a.shape = (3,)\n",
      "b.shape = (3, 3, 2)\n"
     ]
    }
   ],
   "source": [
    "import numpy as np\n",
    "\n",
    "a = np.array([1, 2, 3])\n",
    "print('type(a), a =', type(a), a)\n",
    "print('a.shape =', a.shape)\n",
    "\n",
    "b = np.array([[(x,y) for x in range(3)] for y in range(3)])\n",
    "print('b.shape =', b.shape)"
   ]
  },
  {
   "cell_type": "code",
   "execution_count": 45,
   "metadata": {
    "slideshow": {
     "slide_type": "subslide"
    }
   },
   "outputs": [
    {
     "name": "stdout",
     "output_type": "stream",
     "text": [
      "np.zeros((2,2)) =\n",
      " [[0. 0.]\n",
      " [0. 0.]]\n",
      "np.ones((2,2)) =\n",
      " [[1. 1.]\n",
      " [1. 1.]]\n",
      "np.full((2,2), 3.14) =\n",
      " [[3.14 3.14]\n",
      " [3.14 3.14]]\n",
      "np.eye(3) =\n",
      " [[1. 0. 0.]\n",
      " [0. 1. 0.]\n",
      " [0. 0. 1.]]\n",
      "np.random.random((3,3)) =\n",
      " [[0.52274307 0.6508981  0.64024127]\n",
      " [0.45358772 0.94915435 0.15483025]\n",
      " [0.29330909 0.41794578 0.64396998]]\n"
     ]
    }
   ],
   "source": [
    "print('np.zeros((2,2)) =\\n', np.zeros((2,2)))\n",
    "print('np.ones((2,2)) =\\n', np.ones((2,2)))\n",
    "print('np.full((2,2), 3.14) =\\n', np.full((2,2), 3.14))\n",
    "print('np.eye(3) =\\n', np.eye(3))\n",
    "print('np.random.random((3,3)) =\\n', np.random.random((3,3)))"
   ]
  },
  {
   "cell_type": "code",
   "execution_count": 46,
   "metadata": {
    "slideshow": {
     "slide_type": "subslide"
    }
   },
   "outputs": [
    {
     "name": "stdout",
     "output_type": "stream",
     "text": [
      "(0, 0) (1, 0) (2, 0) \n",
      "(0, 1) (1, 1) (2, 1) \n",
      "(0, 2) (1, 2) (2, 2) \n",
      "\n",
      "1st & 2nd cols:\n",
      " [[[0 0]\n",
      "  [1 0]]\n",
      "\n",
      " [[0 1]\n",
      "  [1 1]]\n",
      "\n",
      " [[0 2]\n",
      "  [1 2]]]\n",
      "np.arange(4) = [0 1 2 3]\n"
     ]
    }
   ],
   "source": [
    "[[print((idy,idx), end=' ') for idy, _ in enumerate(b[idx])] and print() for idx, _ in enumerate(b)]\n",
    "print()\n",
    "print('1st & 2nd cols:\\n', b[:,:2])\n",
    "\n",
    "print('np.arange(4) =', np.arange(4))"
   ]
  },
  {
   "cell_type": "markdown",
   "metadata": {
    "slideshow": {
     "slide_type": "slide"
    }
   },
   "source": [
    "## Numpy: boolean array indexing"
   ]
  },
  {
   "cell_type": "code",
   "execution_count": 47,
   "metadata": {
    "slideshow": {
     "slide_type": "fragment"
    }
   },
   "outputs": [
    {
     "name": "stdout",
     "output_type": "stream",
     "text": [
      "np.arange(10) = [0 1 2 3 4 5 6 7 8 9]\n",
      "a.reshape((2,5)) =\n",
      " [[0 1 2 3 4]\n",
      " [5 6 7 8 9]]\n",
      "(a%2==0) =\n",
      " [[ True False  True False  True]\n",
      " [False  True False  True False]]\n",
      "a[idx] =\t [0 2 4 6 8]\n",
      "a[a%3==0] =\t [0 3 6 9]\n"
     ]
    }
   ],
   "source": [
    "a = np.arange(10)\n",
    "print('np.arange(10) =', a)\n",
    "a = a.reshape((2,5))\n",
    "print('a.reshape((2,5)) =\\n', a)\n",
    "idx = (a%2==0)\n",
    "print('(a%2==0) =\\n', idx)\n",
    "print('a[idx] =\\t', a[idx])\n",
    "print('a[a%3==0] =\\t', a[a%3==0])"
   ]
  },
  {
   "cell_type": "markdown",
   "metadata": {
    "slideshow": {
     "slide_type": "slide"
    }
   },
   "source": [
    "## Numpy: datatypes\n",
    "\n",
    "* numpy arrays can contain elements of the same type!"
   ]
  },
  {
   "cell_type": "code",
   "execution_count": 48,
   "metadata": {
    "slideshow": {
     "slide_type": "fragment"
    }
   },
   "outputs": [
    {
     "name": "stdout",
     "output_type": "stream",
     "text": [
      "int64\n",
      "float64\n",
      "int16\n"
     ]
    }
   ],
   "source": [
    "l = np.array([1,2])\n",
    "print(l.dtype)\n",
    "\n",
    "l = np.array([1.0,2.0])\n",
    "print(l.dtype)\n",
    "\n",
    "l = np.array([1.0,2.0], dtype=np.int16)\n",
    "print(l.dtype)"
   ]
  },
  {
   "cell_type": "markdown",
   "metadata": {
    "slideshow": {
     "slide_type": "slide"
    }
   },
   "source": [
    "## Numpy: operations on arrays\n",
    "\n",
    "* standard operations, like + - * / sqrt etc. are elementwise."
   ]
  },
  {
   "cell_type": "code",
   "execution_count": 49,
   "metadata": {
    "slideshow": {
     "slide_type": "fragment"
    }
   },
   "outputs": [
    {
     "name": "stdout",
     "output_type": "stream",
     "text": [
      "l_1 = [0 1 2 3]\n",
      "l_2 = [4 5 6 7]\n",
      "l_sum = [ 4  6  8 10]\n",
      "l_sub = [-4 -4 -4 -4]\n",
      "l_mul = [ 0  5 12 21]\n",
      "l_div = [0.         0.2        0.33333333 0.42857143]\n",
      "l_sqrt = [0.         1.         1.41421356 1.73205081]\n"
     ]
    }
   ],
   "source": [
    "l_1 = np.arange(4)  # .reshape((2,2))\n",
    "l_2 = np.arange(4,8)  # .reshape((2,2))\n",
    "print('l_1 =', l_1)\n",
    "print('l_2 =', l_2)\n",
    "\n",
    "l_sum = l_1 + l_2  # np.add(l_1, l_2)\n",
    "print('l_sum =', l_sum)\n",
    "\n",
    "l_sub = l_1 - l_2  # np.subtract(l_1, l_2)\n",
    "print('l_sub =', l_sub)\n",
    "\n",
    "l_mul = l_1 * l_2  # np.multiply(l_1, l_2)\n",
    "print('l_mul =', l_mul)\n",
    "\n",
    "l_div = l_1 / l_2  # np.divide(l_1, l_2)\n",
    "print('l_div =', l_div)\n",
    "\n",
    "l_sqrt = np.sqrt(l_1)\n",
    "print('l_sqrt =', l_sqrt)"
   ]
  },
  {
   "cell_type": "code",
   "execution_count": 50,
   "metadata": {
    "slideshow": {
     "slide_type": "subslide"
    }
   },
   "outputs": [
    {
     "name": "stdout",
     "output_type": "stream",
     "text": [
      "v_1 = [0 1]\n",
      "v_2 = [3 4]\n",
      "v_1.dot(v_2) = 4\n",
      "m_1 = [[0 1]\n",
      " [2 3]]\n",
      "m_2 = [[4 5]\n",
      " [6 7]]\n",
      "m_1.dot(m_2) = [[ 6  7]\n",
      " [26 31]]\n"
     ]
    }
   ],
   "source": [
    "v_1 = np.arange(2)\n",
    "v_2 = np.arange(3,5)\n",
    "\n",
    "print('v_1 =', v_1)\n",
    "print('v_2 =', v_2)\n",
    "print('v_1.dot(v_2) =', v_1.dot(v_2))\n",
    "# sum(i*j for i,j in zip(v_1,v_2)) # :)\n",
    "\n",
    "m_1 = np.arange(4).reshape((2,2))\n",
    "m_2 = np.arange(4, 8).reshape((2,2))\n",
    "\n",
    "print('m_1 =', m_1)\n",
    "print('m_2 =', m_2)\n",
    "print('m_1.dot(m_2) =', m_1.dot(m_2))"
   ]
  },
  {
   "cell_type": "code",
   "execution_count": 51,
   "metadata": {
    "slideshow": {
     "slide_type": "subslide"
    }
   },
   "outputs": [
    {
     "name": "stdout",
     "output_type": "stream",
     "text": [
      "Function vector_add_scalar exec time is: 3.01843ms\n",
      "For:\t [ 5  6  7  8  9 10 11 12 13 14]\n",
      "Function vector_add_scalar_numpy exec time is: 0.03217ms\n",
      "NumPy:\t [10 11 12 13 14 15 16 17 18 19]\n"
     ]
    }
   ],
   "source": [
    "import time\n",
    "\n",
    "def timeit(function):\n",
    "    def timed(*args, **kwargs):\n",
    "        tick = time.time()\n",
    "        result = function(*args, **kwargs)\n",
    "        print('Function {} exec time is: {:6.5f}ms'.format(function.__name__, time.time()-tick))\n",
    "        return result\n",
    "    return timed\n",
    "\n",
    "@timeit\n",
    "def vector_add_scalar(v_1, s_1):\n",
    "    for idx, _ in enumerate(v_1):\n",
    "        v_1[idx] += s_1\n",
    "    return v_1\n",
    "\n",
    "@timeit\n",
    "def vector_add_scalar_numpy(v_1, s_1):\n",
    "    return v_1+s_1\n",
    "\n",
    "v_1 = np.arange(10000000)\n",
    "s_1 = 5\n",
    "\n",
    "print('For:\\t', vector_add_scalar(v_1, s_1)[:10])\n",
    "print('NumPy:\\t', vector_add_scalar_numpy(v_1, s_1)[:10])"
   ]
  },
  {
   "cell_type": "code",
   "execution_count": 52,
   "metadata": {
    "slideshow": {
     "slide_type": "subslide"
    }
   },
   "outputs": [
    {
     "name": "stdout",
     "output_type": "stream",
     "text": [
      "[[0 1]\n",
      " [2 3]]\n",
      "m.sum() =\t 6\n",
      "m.sum(axis=0) =\t [2 4]\n",
      "m.sum(axis=1) =\t [1 5]\n",
      "Avg =\t\t 1.5\n",
      "StDev =\t\t 1.118033988749895\n"
     ]
    }
   ],
   "source": [
    "m = np.arange(4).reshape((2,2))\n",
    "print(m)\n",
    "print('m.sum() =\\t', m.sum())\n",
    "print('m.sum(axis=0) =\\t', m.sum(axis=0))  # np.sum(m, axis=0)\n",
    "print('m.sum(axis=1) =\\t', m.sum(axis=1))  # np.sum(m, axis=1)\n",
    "\n",
    "print('Avg =\\t\\t', np.average(m))\n",
    "print('StDev =\\t\\t', np.std(m))"
   ]
  },
  {
   "cell_type": "markdown",
   "metadata": {
    "slideshow": {
     "slide_type": "slide"
    }
   },
   "source": [
    "## Numpy: broadcasting"
   ]
  },
  {
   "cell_type": "markdown",
   "metadata": {
    "slideshow": {
     "slide_type": "fragment"
    }
   },
   "source": [
    "Broadcasting two arrays together follows these rules:\n",
    "\n",
    "1. If the arrays do not have the same rank, prepend the shape of the lower rank array with 1s until both shapes have the same length.\n",
    "1. The two arrays are said to be compatible in a dimension if they have the same size in the dimension, or if one of the arrays has size 1 in that dimension.\n",
    "1. The arrays can be broadcast together if they are compatible in all dimensions.\n",
    "1. After broadcasting, each array behaves as if it had shape equal to the elementwise maximum of shapes of the two input arrays.\n",
    "1. In any dimension where one array had size 1 and the other array had size greater than 1, the first array behaves as if it were copied along that dimension\n"
   ]
  },
  {
   "cell_type": "code",
   "execution_count": 53,
   "metadata": {
    "slideshow": {
     "slide_type": "subslide"
    }
   },
   "outputs": [
    {
     "name": "stdout",
     "output_type": "stream",
     "text": [
      "Result:  [[ 2  2  4]\n",
      " [ 5  5  7]\n",
      " [ 8  8 10]\n",
      " [11 11 13]]\n"
     ]
    }
   ],
   "source": [
    "# The non-numpy way:\n",
    "x = np.array([[1,2,3], [4,5,6], [7,8,9], [10, 11, 12]])\n",
    "v = np.array([1, 0, 1])\n",
    "y = np.empty_like(x)\n",
    "\n",
    "for i in range(4):\n",
    "    y[i, :] = x[i, :] + v\n",
    "print('Result: ', y)"
   ]
  },
  {
   "cell_type": "code",
   "execution_count": 54,
   "metadata": {
    "slideshow": {
     "slide_type": "subslide"
    }
   },
   "outputs": [
    {
     "name": "stdout",
     "output_type": "stream",
     "text": [
      "Tile:  [[1 0 1]\n",
      " [1 0 1]\n",
      " [1 0 1]\n",
      " [1 0 1]]\n",
      "Result:  [[ 2  2  4]\n",
      " [ 5  5  7]\n",
      " [ 8  8 10]\n",
      " [11 11 13]]\n"
     ]
    }
   ],
   "source": [
    "# The numpy way:\n",
    "\n",
    "x = np.array([[1,2,3], [4,5,6], [7,8,9], [10, 11, 12]])\n",
    "v = np.array([1, 0, 1])\n",
    "vv = np.tile(v, (4, 1))\n",
    "print('Tile: ',vv)\n",
    "\n",
    "y = x + vv\n",
    "print('Result: ', y)"
   ]
  },
  {
   "cell_type": "code",
   "execution_count": 55,
   "metadata": {
    "slideshow": {
     "slide_type": "subslide"
    }
   },
   "outputs": [
    {
     "name": "stdout",
     "output_type": "stream",
     "text": [
      "[[ 2  2  4]\n",
      " [ 5  5  7]\n",
      " [ 8  8 10]\n",
      " [11 11 13]]\n"
     ]
    }
   ],
   "source": [
    "# The numpy with broadcasting way:\n",
    "x = np.array([[1,2,3], [4,5,6], [7,8,9], [10, 11, 12]])\n",
    "v = np.array([1, 0, 1])\n",
    "y = x + v\n",
    "print(y)"
   ]
  },
  {
   "cell_type": "markdown",
   "metadata": {
    "slideshow": {
     "slide_type": "slide"
    }
   },
   "source": [
    "## Matplotlib"
   ]
  },
  {
   "cell_type": "code",
   "execution_count": 56,
   "metadata": {
    "slideshow": {
     "slide_type": "fragment"
    }
   },
   "outputs": [
    {
     "data": {
      "text/plain": [
       "<Figure size 640x480 with 1 Axes>"
      ]
     },
     "metadata": {},
     "output_type": "display_data"
    }
   ],
   "source": [
    "import matplotlib.pyplot as plt\n",
    "import numpy as np\n",
    "\n",
    "# Create 100 points in <0, 10> space\n",
    "x = np.linspace(0, 10, 100)\n",
    "y = np.sin(np.linspace(5, 10, 100))\n",
    "plt.plot(x, y, label='sin')\n",
    "\n",
    "x = np.linspace(0, 10, 100)\n",
    "y = np.cos(np.linspace(5, 10, 100))\n",
    "plt.plot(x, y, label='cos')\n",
    "\n",
    "# Add a legend (only if label was specified)\n",
    "plt.legend()\n",
    "plt.show()"
   ]
  },
  {
   "cell_type": "code",
   "execution_count": 57,
   "metadata": {
    "slideshow": {
     "slide_type": "subslide"
    }
   },
   "outputs": [
    {
     "data": {
      "image/png": "[encoded data removed]",
      "text/plain": [
       "<Figure size 1080x360 with 4 Axes>"
      ]
     },
     "metadata": {
      "needs_background": "light"
     },
     "output_type": "display_data"
    }
   ],
   "source": [
    "fig = plt.figure(figsize=(15,5))\n",
    "\n",
    "for i in range(1,5):\n",
    "    ax = fig.add_subplot(2, 2, i)  # 2 rows, 2 cols, plot num i in the 2x2 grid\n",
    "    fun = ax.plot if i%2 else ax.scatter\n",
    "    fun(np.linspace(0, 5, 5*i), np.sin(np.linspace(0, 10, 5*i)))\n",
    "\n",
    "plt.show()"
   ]
  },
  {
   "cell_type": "code",
   "execution_count": 58,
   "metadata": {
    "slideshow": {
     "slide_type": "subslide"
    }
   },
   "outputs": [
    {
     "data": {
      "image/png": "[encoded data removed]",
      "text/plain": [
       "<Figure size 1080x360 with 7 Axes>"
      ]
     },
     "metadata": {
      "needs_background": "light"
     },
     "output_type": "display_data"
    }
   ],
   "source": [
    "fig = plt.figure(figsize=(15,5))\n",
    "\n",
    "points = 25\n",
    "x = np.linspace(0, 5, points)\n",
    "y = np.cos(np.linspace(0, 10, points))\n",
    "\n",
    "axes = []\n",
    "for i in range(7):\n",
    "    axes.append(fig.add_subplot(3,3,i+1))\n",
    "\n",
    "axes[0].plot(x,y)\n",
    "axes[1].scatter(x,y)\n",
    "axes[2].bar(x,y)\n",
    "axes[3].barh(x,y)\n",
    "axes[4].fill(x,y)\n",
    "axes[5].fill_between(x,y)\n",
    "axes[6].stackplot(x,y)\n",
    "\n",
    "plt.show()"
   ]
  },
  {
   "cell_type": "markdown",
   "metadata": {
    "slideshow": {
     "slide_type": "slide"
    }
   },
   "source": [
    "## TF-Keras example"
   ]
  },
  {
   "cell_type": "code",
   "execution_count": 59,
   "metadata": {
    "slideshow": {
     "slide_type": "fragment"
    }
   },
   "outputs": [
    {
     "data": {
      "text/plain": [
       "array([9, 0, 0, ..., 3, 0, 5], dtype=uint8)"
      ]
     },
     "execution_count": 59,
     "metadata": {},
     "output_type": "execute_result"
    }
   ],
   "source": [
    "import tensorflow as tf\n",
    "from tensorflow import keras\n",
    "import numpy as np\n",
    "import matplotlib.pyplot as plt\n",
    "\n",
    "fashion_mnist = keras.datasets.fashion_mnist\n",
    "(train_images, train_labels), (test_images, test_labels) = fashion_mnist.load_data()\n",
    "class_names = ['T-shirt/top', 'Trouser', 'Pullover', 'Dress', 'Coat', \n",
    "               'Sandal', 'Shirt', 'Sneaker', 'Bag', 'Ankle boot']\n",
    "train_images.shape\n",
    "test_images.shape\n",
    "train_labels"
   ]
  },
  {
   "cell_type": "code",
   "execution_count": 60,
   "metadata": {
    "slideshow": {
     "slide_type": "subslide"
    }
   },
   "outputs": [
    {
     "data": {
      "text/plain": [
       "<matplotlib.image.AxesImage at 0xb49b67588>"
      ]
     },
     "execution_count": 60,
     "metadata": {},
     "output_type": "execute_result"
    },
    {
     "data": {
      "image/png": "[encoded data removed]",
      "text/plain": [
       "<Figure size 432x288 with 1 Axes>"
      ]
     },
     "metadata": {
      "needs_background": "light"
     },
     "output_type": "display_data"
    }
   ],
   "source": [
    "plt.figure()\n",
    "plt.imshow(train_images[0])"
   ]
  },
  {
   "cell_type": "code",
   "execution_count": 61,
   "metadata": {
    "slideshow": {
     "slide_type": "subslide"
    }
   },
   "outputs": [
    {
     "data": {
      "image/png": "[encoded data removed]",
      "text/plain": [
       "<Figure size 720x720 with 25 Axes>"
      ]
     },
     "metadata": {},
     "output_type": "display_data"
    }
   ],
   "source": [
    "# scale data to <0,1> range\n",
    "train_images = train_images  / 255.0\n",
    "test_images = test_images / 255.0\n",
    "\n",
    "plt.figure(figsize=(10,10))\n",
    "for i in range(25):\n",
    "    plt.subplot(5,5,i+1)\n",
    "    plt.xticks([])  # remove ticks on the axes\n",
    "    plt.yticks([])\n",
    "    plt.grid(False)\n",
    "    plt.imshow(train_images[i], cmap=plt.cm.binary)\n",
    "    plt.xlabel(class_names[train_labels[i]])"
   ]
  },
  {
   "cell_type": "code",
   "execution_count": 62,
   "metadata": {
    "slideshow": {
     "slide_type": "subslide"
    }
   },
   "outputs": [],
   "source": [
    "model = keras.Sequential([\n",
    "    keras.layers.Flatten(input_shape=(28, 28)),\n",
    "    keras.layers.Dense(128, activation=tf.nn.relu),\n",
    "    keras.layers.Dense(10, activation=tf.nn.softmax)\n",
    "])"
   ]
  },
  {
   "cell_type": "code",
   "execution_count": 63,
   "metadata": {
    "slideshow": {
     "slide_type": "fragment"
    }
   },
   "outputs": [
    {
     "name": "stdout",
     "output_type": "stream",
     "text": [
      "Epoch 1/5\n",
      "60000/60000 [==============================] - 5s 77us/step - loss: 0.5081 - acc: 0.8218\n",
      "Epoch 2/5\n",
      "60000/60000 [==============================] - 4s 74us/step - loss: 0.3812 - acc: 0.8619\n",
      "Epoch 3/5\n",
      "60000/60000 [==============================] - 5s 77us/step - loss: 0.3422 - acc: 0.8771\n",
      "Epoch 4/5\n",
      "60000/60000 [==============================] - 5s 81us/step - loss: 0.3177 - acc: 0.8834\n",
      "Epoch 5/5\n",
      "60000/60000 [==============================] - 5s 81us/step - loss: 0.2987 - acc: 0.8903\n"
     ]
    },
    {
     "data": {
      "text/plain": [
       "<tensorflow.python.keras.callbacks.History at 0xb49aca9b0>"
      ]
     },
     "execution_count": 63,
     "metadata": {},
     "output_type": "execute_result"
    }
   ],
   "source": [
    "model.compile(optimizer=tf.train.AdamOptimizer(), \n",
    "              loss='sparse_categorical_crossentropy',\n",
    "              metrics=['accuracy'])\n",
    "model.fit(train_images, train_labels, epochs=5)"
   ]
  },
  {
   "cell_type": "code",
   "execution_count": 64,
   "metadata": {
    "slideshow": {
     "slide_type": "subslide"
    }
   },
   "outputs": [
    {
     "name": "stdout",
     "output_type": "stream",
     "text": [
      "10000/10000 [==============================] - 0s 40us/step\n",
      "Test accuracy: 0.8776\n"
     ]
    }
   ],
   "source": [
    "test_loss, test_acc = model.evaluate(test_images, test_labels)\n",
    "\n",
    "print('Test accuracy:', test_acc)\n"
   ]
  },
  {
   "cell_type": "code",
   "execution_count": 65,
   "metadata": {
    "slideshow": {
     "slide_type": "fragment"
    }
   },
   "outputs": [
    {
     "name": "stdout",
     "output_type": "stream",
     "text": [
      "9 9\n"
     ]
    }
   ],
   "source": [
    "predictions = model.predict(test_images)\n",
    "print(np.argmax(predictions[0]), test_labels[0])"
   ]
  },
  {
   "cell_type": "code",
   "execution_count": 66,
   "metadata": {
    "slideshow": {
     "slide_type": "subslide"
    }
   },
   "outputs": [],
   "source": [
    "def plot_image(i, predictions_array, true_label, img):\n",
    "  predictions_array, true_label, img = predictions_array[i], true_label[i], img[i]\n",
    "  plt.grid(False)\n",
    "  plt.xticks([])\n",
    "  plt.yticks([])\n",
    "  \n",
    "  plt.imshow(img, cmap=plt.cm.binary)\n",
    "\n",
    "  predicted_label = np.argmax(predictions_array)\n",
    "  if predicted_label == true_label:\n",
    "    color = 'blue'\n",
    "  else:\n",
    "    color = 'red'\n",
    "  \n",
    "  plt.xlabel(\"{} {:2.0f}% ({})\".format(class_names[predicted_label],\n",
    "                                100*np.max(predictions_array),\n",
    "                                class_names[true_label]),\n",
    "                                color=color)\n",
    "\n",
    "def plot_value_array(i, predictions_array, true_label):\n",
    "  predictions_array, true_label = predictions_array[i], true_label[i]\n",
    "  plt.grid(False)\n",
    "  plt.xticks([])\n",
    "  plt.yticks([])\n",
    "  thisplot = plt.bar(range(10), predictions_array, color=\"#777777\")\n",
    "  plt.ylim([0, 1]) \n",
    "  predicted_label = np.argmax(predictions_array)\n",
    " \n",
    "  thisplot[predicted_label].set_color('red')\n",
    "  thisplot[true_label].set_color('blue')\n"
   ]
  },
  {
   "cell_type": "code",
   "execution_count": 67,
   "metadata": {
    "slideshow": {
     "slide_type": "subslide"
    }
   },
   "outputs": [
    {
     "data": {
      "image/png": "[encoded data removed]",
      "text/plain": [
       "<Figure size 432x216 with 2 Axes>"
      ]
     },
     "metadata": {},
     "output_type": "display_data"
    }
   ],
   "source": [
    "i = 0\n",
    "plt.figure(figsize=(6,3))\n",
    "plt.subplot(1,2,1)\n",
    "plot_image(i, predictions, test_labels, test_images)\n",
    "plt.subplot(1,2,2)\n",
    "plot_value_array(i, predictions,  test_labels)"
   ]
  },
  {
   "cell_type": "code",
   "execution_count": 68,
   "metadata": {
    "slideshow": {
     "slide_type": "subslide"
    }
   },
   "outputs": [
    {
     "data": {
      "image/png": "[encoded data removed]",
      "text/plain": [
       "<Figure size 864x720 with 30 Axes>"
      ]
     },
     "metadata": {},
     "output_type": "display_data"
    }
   ],
   "source": [
    "# Plot the first X test images, their predicted label, and the true label\n",
    "# Color correct predictions in blue, incorrect predictions in red\n",
    "num_rows = 5\n",
    "num_cols = 3\n",
    "num_images = num_rows*num_cols\n",
    "plt.figure(figsize=(2*2*num_cols, 2*num_rows))\n",
    "for i in range(num_images):\n",
    "  plt.subplot(num_rows, 2*num_cols, 2*i+1)\n",
    "  plot_image(i, predictions, test_labels, test_images)\n",
    "  plt.subplot(num_rows, 2*num_cols, 2*i+2)\n",
    "  plot_value_array(i, predictions, test_labels)\n"
   ]
  },
  {
   "cell_type": "code",
   "execution_count": 69,
   "metadata": {
    "slideshow": {
     "slide_type": "subslide"
    }
   },
   "outputs": [
    {
     "name": "stdout",
     "output_type": "stream",
     "text": [
      "(28, 28)\n",
      "(1, 28, 28)\n",
      "[[8.2242349e-07 5.8969265e-09 5.0549673e-08 4.7343880e-07 1.3550790e-07\n",
      "  1.3703832e-03 3.8189587e-06 2.5172096e-02 7.0551632e-06 9.7344512e-01]]\n"
     ]
    },
    {
     "data": {
      "image/png": "[encoded data removed]",
      "text/plain": [
       "<Figure size 432x288 with 1 Axes>"
      ]
     },
     "metadata": {
      "needs_background": "light"
     },
     "output_type": "display_data"
    }
   ],
   "source": [
    "# Grab an image from the test dataset\n",
    "img = test_images[0]\n",
    "print(img.shape)\n",
    "\n",
    "# tf.keras models are optimized to make predictions on a batch, or collection,\n",
    "# of examples at once. So even though we're using a single image, we need to add it to a list:\\\n",
    "img = (np.expand_dims(img,0))\n",
    "print(img.shape)\n",
    "\n",
    "predictions_single = model.predict(img)\n",
    "print(predictions_single)\n",
    "\n",
    "plot_value_array(0, predictions_single, test_labels)\n",
    "_ = plt.xticks(range(10), class_names, rotation=45)"
   ]
  },
  {
   "cell_type": "markdown",
   "metadata": {
    "slideshow": {
     "slide_type": "slide"
    }
   },
   "source": [
    "## Python2 vs Python 3"
   ]
  },
  {
   "cell_type": "markdown",
   "metadata": {
    "slideshow": {
     "slide_type": "fragment"
    }
   },
   "source": [
    "```python\n",
    "print 'text'   # Py2\n",
    "print('text')  # Py3\n",
    "\n",
    "range(5)       # Py2 function that allocates list in-place\n",
    "xrange(5)      # Py2 generator that yields element as needed\n",
    "range(5)       # Py3 generator, also in Py3 the range has __contains__ method that\n",
    "               # can speedup look-ups significantly for int type.\n",
    "\n",
    "3/2 = 1        # Py2 integer division\n",
    "3/2 = 1.5      # Py3 integer division\n",
    "\n",
    "str() is ASCII, separate unicode  # Py2\n",
    "str() is UTF8, also has byte string and bytearray string\n",
    "```"
   ]
  },
  {
   "cell_type": "markdown",
   "metadata": {
    "slideshow": {
     "slide_type": "subslide"
    }
   },
   "source": [
    "### For-loop variables and the global namespace leak."
   ]
  },
  {
   "cell_type": "markdown",
   "metadata": {
    "slideshow": {
     "slide_type": "fragment"
    }
   },
   "source": [
    "```python\n",
    "i = 1\n",
    "print('before: i =', i)\n",
    "print('comprehension:', [i for i in range(5)])\n",
    "print('after: i =', i)  # Py2: i=4\n",
    "                        # Py3: i=1\n",
    "\n",
    "n = input('enter a number:')\n",
    ">>> enter a number: 123\n",
    "type(n)  # Py2: int\n",
    "         # Py3: string\n",
    "```"
   ]
  },
  {
   "cell_type": "markdown",
   "metadata": {
    "slideshow": {
     "slide_type": "subslide"
    }
   },
   "source": [
    "### Rounding\n",
    "* Python 3 adopted the now standard way of rounding decimals when it results in a tie (.5) at the last significant digits.\n",
    "* decimals are rounded to the nearest even number.\n",
    "* it’s an inconvenience for code portability, it’s supposedly a better way of rounding compared to rounding up as it avoids the bias towards large numbers."
   ]
  },
  {
   "cell_type": "markdown",
   "metadata": {
    "slideshow": {
     "slide_type": "fragment"
    }
   },
   "source": [
    "```python\n",
    "round(15.5)  # Py2: 16.0\n",
    "             # Py3: 16.0\n",
    "round(16.5)  # Py2: 17.0\n",
    "             # Py3: 16.0\n",
    "\n",
    "```"
   ]
  },
  {
   "cell_type": "markdown",
   "metadata": {
    "slideshow": {
     "slide_type": "slide"
    }
   },
   "source": [
    "## Memory management\n",
    "\n",
    "Unlike many other languages, Python does not necessarily release the memory back to the Operating System. Instead, it has a specialized object allocator for small objects (smaller or equal to 512 bytes), which keeps some chunks of already allocated memory for further use in future. The amount of memory that Python holds depending on the usage patterns, in some cases all allocated memory is never released.\n",
    "\n",
    "Therefore, if a long-running Python process takes more memory over time, it does not necessarily mean that you have memory leaks. If you are interested in Python's memory model, consider reading my article on memory management.\n",
    "\n",
    "Standard CPython's garbage collector has two components, the reference counting collector and the generational garbage collector, known as gc module.\n",
    "\n",
    "The reference counting algorithm is incredibly efficient and straightforward, but it cannot detect reference cycles. That is why Python has a supplemental algorithm called generational cyclic GC, that deals with reference cycles.\n",
    "\n",
    "The reference counting is fundamental to Python and can't be disabled, whereas the cyclic GC is optional and can be used manually.\n",
    "\n",
    "[comment]: <> (More: https://rushter.com/blog/python-garbage-collector/)"
   ]
  },
  {
   "cell_type": "markdown",
   "metadata": {
    "slideshow": {
     "slide_type": "slide"
    }
   },
   "source": [
    "## Debugging with pdb"
   ]
  },
  {
   "cell_type": "markdown",
   "metadata": {
    "slideshow": {
     "slide_type": "slide"
    }
   },
   "source": [
    "## Jupyter / IPython"
   ]
  },
  {
   "cell_type": "markdown",
   "metadata": {
    "slideshow": {
     "slide_type": "slide"
    }
   },
   "source": [
    "## PTPython"
   ]
  },
  {
   "cell_type": "markdown",
   "metadata": {
    "slideshow": {
     "slide_type": "slide"
    }
   },
   "source": [
    "## Multithreading"
   ]
  },
  {
   "cell_type": "markdown",
   "metadata": {
    "slideshow": {
     "slide_type": "slide"
    }
   },
   "source": [
    "## Commonly used libraries"
   ]
  },
  {
   "cell_type": "markdown",
   "metadata": {
    "slideshow": {
     "slide_type": "slide"
    }
   },
   "source": [
    "## Others: handling JSON"
   ]
  },
  {
   "cell_type": "markdown",
   "metadata": {
    "slideshow": {
     "slide_type": "slide"
    }
   },
   "source": [
    "## Others: PrettyPrinter"
   ]
  },
  {
   "cell_type": "markdown",
   "metadata": {
    "slideshow": {
     "slide_type": "slide"
    }
   },
   "source": [
    "## PEP8"
   ]
  },
  {
   "cell_type": "markdown",
   "metadata": {
    "slideshow": {
     "slide_type": "slide"
    }
   },
   "source": [
    "## Testing "
   ]
  },
  {
   "cell_type": "markdown",
   "metadata": {
    "slideshow": {
     "slide_type": "slide"
    }
   },
   "source": [
    "## Flask"
   ]
  },
  {
   "cell_type": "markdown",
   "metadata": {
    "slideshow": {
     "slide_type": "slide"
    }
   },
   "source": [
    "## Building TensorFlow the right way"
   ]
  },
  {
   "cell_type": "markdown",
   "metadata": {
    "slideshow": {
     "slide_type": "slide"
    }
   },
   "source": [
    "## TF Serving "
   ]
  },
  {
   "cell_type": "markdown",
   "metadata": {
    "slideshow": {
     "slide_type": "slide"
    }
   },
   "source": [
    "## Linear regression in Python"
   ]
  },
  {
   "cell_type": "markdown",
   "metadata": {
    "slideshow": {
     "slide_type": "slide"
    }
   },
   "source": [
    "#### Sources\n",
    "\n",
    "* http://cs231n.github.io/python-numpy-tutorial/\n",
    "* https://www.tensorflow.org/tutorials/keras/basic_classification"
   ]
  },
  {
   "cell_type": "code",
   "execution_count": null,
   "metadata": {},
   "outputs": [],
   "source": []
  }
 ],
 "metadata": {
  "celltoolbar": "Slideshow",
  "kernelspec": {
   "display_name": "Python 3",
   "language": "python",
   "name": "python3"
  },
  "language_info": {
   "codemirror_mode": {
    "name": "ipython",
    "version": 3
   },
   "file_extension": ".py",
   "mimetype": "text/x-python",
   "name": "python",
   "nbconvert_exporter": "python",
   "pygments_lexer": "ipython3",
   "version": "3.6.7"
  }
 },
 "nbformat": 4,
 "nbformat_minor": 2
}
