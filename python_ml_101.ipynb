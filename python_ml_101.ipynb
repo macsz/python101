{
 "cells": [
  {
   "cell_type": "markdown",
   "metadata": {
    "slideshow": {
     "slide_type": "slide"
    }
   },
   "source": [
    "# Python for Machine Learning\n",
    "\n",
    "## Maciej Szankin"
   ]
  },
  {
   "cell_type": "markdown",
   "metadata": {
    "slideshow": {
     "slide_type": "slide"
    }
   },
   "source": [
    "# About me\n",
    "\n",
    "<div style=\"float:left; padding:30px;\">\n",
    "    <img src=\"https://avatars0.githubusercontent.com/u/4785345?s=460&u=347ee5cbd03d6f3972af3b66ec530eef19f1af1e&v=4\" style=\"width:300px;\" />\n",
    "</div>\n",
    "<div style=\"float:left; padding:30px;\">\n",
    "    <h2>Maciej Szankin</h2>\n",
    "    <h4>Deep Learning Software Engineer @ Intel</h4>\n",
    "</div>"
   ]
  },
  {
   "cell_type": "markdown",
   "metadata": {},
   "source": [
    "# Introduction - How do I participate?\n",
    "\n",
    "* Run as script locally on your own machine\n",
    "* Use Jupyter Notebooks (vs IPython Notebook) on"
   ]
  },
  {
   "cell_type": "markdown",
   "metadata": {
    "slideshow": {
     "slide_type": "subslide"
    }
   },
   "source": [
    "## Google Colab\n",
    "\n",
    "* Available at https://colab.research.google.com/\n",
    "* It's free! You only need a Google account to access\n",
    "* Offers different environment: CPU / GPU / TPU\n",
    "* Resources are not guaranteed\n",
    "* Avoid hogging resources - you can get lower priority in the future if requested resources are not actievely used!\n",
    "* For improved experience - Colab Pro - https://colab.research.google.com/signup"
   ]
  },
  {
   "cell_type": "markdown",
   "metadata": {
    "slideshow": {
     "slide_type": "subslide"
    }
   },
   "source": [
    "## Google Colab - running code\n",
    "\n",
    "# TODO link do tej prezentacji\n",
    "# TODO RUN"
   ]
  },
  {
   "cell_type": "markdown",
   "metadata": {
    "slideshow": {
     "slide_type": "subslide"
    }
   },
   "source": [
    "## Google Colab - Installing new packages\n",
    "\n",
    "* You can execute bash commands in a cell.\n",
    "* Prepend your command with `!` to run it in a shell\n",
    "* When running Google Colab you get your own virtualized environment - you can install packages\n",
    "* The environment will be cleaned upon exiting - make your life easier and install all additional dependencies in the first cell.\n",
    "\n",
    "* Example command to install Python's wget:\n",
    "  ```bash\n",
    "  !pip install wget\n",
    "  ```\n",
    "\n",
    "* Verify:\n",
    "     ```python\n",
    "    import wget\n",
    "    wget.__version__\n",
    "    ```"
   ]
  },
  {
   "cell_type": "code",
   "execution_count": 2,
   "metadata": {
    "slideshow": {
     "slide_type": "fragment"
    }
   },
   "outputs": [
    {
     "name": "stdout",
     "output_type": "stream",
     "text": [
      "3.2\n"
     ]
    }
   ],
   "source": [
    "import wget\n",
    "print(wget.__version__)"
   ]
  },
  {
   "cell_type": "markdown",
   "metadata": {
    "slideshow": {
     "slide_type": "subslide"
    }
   },
   "source": [
    "## ML.eti.pg.gda.pl\n",
    "\n",
    "* Available at http://ml.eti.pg.gda.pl/\n",
    "* JupyterHub-based preconfigured environment deployed for this School\n",
    "* Server is located in Gdansk, Poland\n",
    "* Use it if you can't use Google Colab"
   ]
  },
  {
   "cell_type": "markdown",
   "metadata": {
    "slideshow": {
     "slide_type": "subslide"
    }
   },
   "source": [
    "## ML.eti.pg.gda.pl - running code\n",
    "\n",
    "# TODO link do tej prezentacji\n",
    "# TODO RUN"
   ]
  },
  {
   "cell_type": "markdown",
   "metadata": {
    "slideshow": {
     "slide_type": "subslide"
    }
   },
   "source": [
    "## ML.eti.pg.gda.pl - Installing new packages"
   ]
  },
  {
   "cell_type": "markdown",
   "metadata": {
    "slideshow": {
     "slide_type": "fragment"
    }
   },
   "source": [
    "<center><h2>You can't! Sorry! 💔</h2></center>"
   ]
  },
  {
   "cell_type": "markdown",
   "metadata": {
    "slideshow": {
     "slide_type": "subslide"
    }
   },
   "source": [
    "## Run locally\n",
    "\n",
    "```bash\n",
    "pip install jupyter\n",
    "\n",
    "# or even better:\n",
    "conda install jupyter\n",
    "\n",
    "jupyter notebook\n",
    "```"
   ]
  },
  {
   "cell_type": "markdown",
   "metadata": {
    "slideshow": {
     "slide_type": "slide"
    }
   },
   "source": [
    "# Python"
   ]
  },
  {
   "cell_type": "markdown",
   "metadata": {
    "slideshow": {
     "slide_type": "subslide"
    }
   },
   "source": [
    "<center>\n",
    "    <img src=\"https://imgs.xkcd.com/comics/python.png\" />\n",
    "    <div><i>Source: https://xkcd.com/353/</i></div>\n",
    "</center>"
   ]
  },
  {
   "cell_type": "markdown",
   "metadata": {
    "slideshow": {
     "slide_type": "subslide"
    }
   },
   "source": [
    "## Python\n",
    "* Object Oriented\n",
    "* however #1 - no explicit encapsulation: \"After all, we're all consenting adults here.\"\n",
    "* however #2 - no class interface, only (multi)inheritance\n",
    "* multi-paradigm\n",
    "* interpreted\n",
    "* strongly typed\n",
    "* dynamically typed\n",
    "* designed for code clarity\n",
    "* object introspection\n",
    "*  interactive mode (terminal / IPython)\n",
    "* interfaces to many popular programming languages: \n",
    "    * C++\n",
    "    * Java\n",
    "    * .NET\n",
    "    * and many others\n",
    "* has it's own package manager - pip & easy_install\n",
    "* before writing a library - check if it exists"
   ]
  },
  {
   "cell_type": "markdown",
   "metadata": {
    "slideshow": {
     "slide_type": "subslide"
    }
   },
   "source": [
    "## How to get Python\n",
    "\n",
    "* https://www.python.org/downloads/\n",
    "* https://www.anaconda.com/products/individual\n",
    "* apt / brew\n"
   ]
  },
  {
   "cell_type": "markdown",
   "metadata": {
    "slideshow": {
     "slide_type": "subslide"
    }
   },
   "source": [
    "## Loops"
   ]
  },
  {
   "cell_type": "code",
   "execution_count": null,
   "metadata": {
    "slideshow": {
     "slide_type": "fragment"
    }
   },
   "outputs": [],
   "source": [
    "def find(seq, target):\n",
    "    found = False\n",
    "    for i, value in enumerate(seq):\n",
    "        if value == target:\n",
    "            found = True\n",
    "            break\n",
    "    if not found:\n",
    "        return -1\n",
    "    return i\n",
    "\n",
    "find(range(0,10), 6)"
   ]
  },
  {
   "cell_type": "code",
   "execution_count": null,
   "metadata": {
    "slideshow": {
     "slide_type": "fragment"
    }
   },
   "outputs": [],
   "source": [
    "def find(seq, target):\n",
    "    for i, value in enumerate(seq):\n",
    "        if value == target:\n",
    "            break\n",
    "    else:\n",
    "        return -1\n",
    "    return i\n",
    "\n",
    "find(range(0,10), 6)"
   ]
  },
  {
   "cell_type": "markdown",
   "metadata": {
    "slideshow": {
     "slide_type": "subslide"
    }
   },
   "source": [
    "## List comprehensions"
   ]
  },
  {
   "cell_type": "code",
   "execution_count": null,
   "metadata": {
    "slideshow": {
     "slide_type": "fragment"
    }
   },
   "outputs": [],
   "source": [
    "X = X = [0, 1, 2, 3, 4, 5]\n",
    "X_even_sqr = [even_sqr**2 for even_sqr in X if even_sqr%2==0]\n",
    "X_even_sqr"
   ]
  },
  {
   "cell_type": "markdown",
   "metadata": {
    "slideshow": {
     "slide_type": "subslide"
    }
   },
   "source": [
    "## List slicing"
   ]
  },
  {
   "cell_type": "markdown",
   "metadata": {
    "slideshow": {
     "slide_type": "subslide"
    }
   },
   "source": [
    "## Dictionary comprehensions"
   ]
  },
  {
   "cell_type": "markdown",
   "metadata": {
    "slideshow": {
     "slide_type": "subslide"
    }
   },
   "source": [
    "## Functions"
   ]
  },
  {
   "cell_type": "markdown",
   "metadata": {
    "slideshow": {
     "slide_type": "subslide"
    }
   },
   "source": [
    "## Decorators"
   ]
  },
  {
   "cell_type": "code",
   "execution_count": 19,
   "metadata": {},
   "outputs": [],
   "source": [
    "import time\n",
    "\n",
    "# Decorator definition\n",
    "def timeit(function):\n",
    "    def timed(*args, **kwargs):\n",
    "        time_start = time.time()\n",
    "        result = function(*args, **kwargs)\n",
    "        time_end = time.time()\n",
    "        print('Function {}({}) returned {} in: {:6.5f}ms'.format(function.__name__, *args, result, time_end-time_start))\n",
    "        return result\n",
    "    return timed"
   ]
  },
  {
   "cell_type": "markdown",
   "metadata": {
    "slideshow": {
     "slide_type": "subslide"
    }
   },
   "source": [
    "## Classes\n",
    "\n",
    "* `__init__` is not a true constructor - https://www.quora.com/Can-we-say-init__-self-is-a-constructor-in-Python-How-can-this-be-justified\n"
   ]
  },
  {
   "cell_type": "markdown",
   "metadata": {
    "slideshow": {
     "slide_type": "subslide"
    }
   },
   "source": [
    "## What makes your Python code better"
   ]
  },
  {
   "cell_type": "markdown",
   "metadata": {
    "slideshow": {
     "slide_type": "subslide"
    }
   },
   "source": [
    "### PEP8 Style Guide\n",
    "\n",
    "Guidelines for:\n",
    "* Code layout (Indentation - Tabs or Spaces?, Maximum Line Length, Imports etc.)\n",
    "* String quotes\n",
    "* Whitespaces\n",
    "* Naming conventions\n",
    "* Overriding principles\n",
    "\n",
    "Validate your code with pycodestyle utility (pep8 [just the utility] has been renamed to pycodestyle (GitHub issue #466)).\n",
    "\n",
    "```bash\n",
    "pip install pep8 / pip install pycodestyle\n",
    "```\n",
    "\n",
    "Examples: https://pypi.org/project/pep8/, more at https://www.python.org/dev/peps/pep-0008/\n",
    "\n",
    "```bash\n",
    "$ pycodestyle <directory or a file>\n",
    "\n",
    "  python101/math.py:4:1: E302 expected 2 blank lines, found 1\n",
    "  python101/math.py:4:10: E231 missing whitespace after ','\n",
    "```"
   ]
  },
  {
   "cell_type": "markdown",
   "metadata": {
    "slideshow": {
     "slide_type": "subslide"
    }
   },
   "source": [
    "### PEP257 Docstrings\n",
    "\n",
    "A docstring is a string literal that occurs as the first statement in a module, function, class, or method definition. Such a docstring becomes the __doc__ special attribute of that object.\n",
    "\n",
    "* All modules should normally have docstrings, and all functions and classes exported by a module should also have docstrings.\n",
    "* Public methods (including the __init__ constructor) should also have docstrings.\n",
    "* A package may be documented in the module docstring of the __init__.py file in the package directory.\n",
    "* For consistency, always use \"\"\"triple double quotes\"\"\"\n",
    "* Validate your code with pep257 utility.\n",
    "    ```bash\n",
    "    pip install pep257\n",
    "    ```\n",
    "* Good read: https://blog.dolphm.com/pep257-good-python-docstrings-by-example/\n",
    "\n",
    "```bash\n",
    "$ pep257 python101/\n",
    "python101/__init__.py:1 at module level:\n",
    "        D104: Missing docstring in public package\n",
    "python101/math.py:1 at module level:\n",
    "        D100: Missing docstring in public module\n",
    "python101/math.py:1 in public function `add`:\n",
    "        D103: Missing docstring in public function\n",
    "python101/math.py:4 in public function `sub`:\n",
    "        D103: Missing docstring in public function\n",
    "```"
   ]
  },
  {
   "cell_type": "markdown",
   "metadata": {
    "slideshow": {
     "slide_type": "subslide"
    }
   },
   "source": [
    "### PEP257 Docstrings"
   ]
  },
  {
   "cell_type": "code",
   "execution_count": null,
   "metadata": {
    "slideshow": {
     "slide_type": "fragment"
    }
   },
   "outputs": [],
   "source": [
    "class Class1(object):\n",
    "    \"\"\" Class\n",
    "    multiline description\n",
    "    \"\"\"\n",
    "    a = None\n",
    "\n",
    "    def __init__(self):\n",
    "        \"\"\"Multiline\n",
    "        constructor description\n",
    "        \"\"\"\n",
    "        self.b = None\n",
    "\n",
    "help(Class1)"
   ]
  },
  {
   "cell_type": "markdown",
   "metadata": {
    "slideshow": {
     "slide_type": "subslide"
    }
   },
   "source": [
    "### Typical project structure\n",
    "\n",
    "```\n",
    "/example_pkg\n",
    "--/example_pkg\n",
    "----__init__.py\n",
    "----my_script.py\n",
    "--setup.py\n",
    "--LICENSE\n",
    "--README.md\n",
    "```"
   ]
  },
  {
   "cell_type": "markdown",
   "metadata": {
    "slideshow": {
     "slide_type": "subslide"
    }
   },
   "source": [
    "### Packaging\n",
    "\n",
    "1. Prepare the directory tree as shown in `Typical project structure`\n",
    "1. Install required packages:\n",
    "    ```bash\n",
    "    pip install setuptools wheel\n",
    "    ```\n",
    "1. Run this command from the same directory where `setup.py` is located:\n",
    "    ```bash\n",
    "    python setup.py sdist bdist_wheel\n",
    "    ```\n",
    "1. This will created a `dist` directory with built package. To test:\n",
    "    1. Install created package:\n",
    "        ```bash\n",
    "        python -m pip install dist/python_tutorial-0.0.1-py3-none-any.whl\n",
    "        ```\n",
    "    1. Go to a different directory, enter Python shell, and try entering the code below:\n",
    "    ```python\n",
    "    import python_tutorial\n",
    "    dir(python_tutorial)\n",
    "    ```"
   ]
  },
  {
   "cell_type": "markdown",
   "metadata": {
    "slideshow": {
     "slide_type": "slide"
    }
   },
   "source": [
    "# Tensor\n",
    "\n",
    "\n",
    "> a mathematical object analogous to but more general than a vector, represented by an array of components that are functions of the coordinates of a space."
   ]
  },
  {
   "cell_type": "markdown",
   "metadata": {
    "slideshow": {
     "slide_type": "slide"
    }
   },
   "source": [
    "# NumPy"
   ]
  },
  {
   "cell_type": "markdown",
   "metadata": {
    "slideshow": {
     "slide_type": "notes"
    }
   },
   "source": [
    "Let's do a quick overview of numpy."
   ]
  },
  {
   "cell_type": "markdown",
   "metadata": {
    "slideshow": {
     "slide_type": "subslide"
    }
   },
   "source": [
    "## NumPy\n",
    "\n",
    "\n",
    "* Numerical Python Library\n",
    "* high performance implementation of multidimensional arrays"
   ]
  },
  {
   "cell_type": "markdown",
   "metadata": {
    "slideshow": {
     "slide_type": "notes"
    }
   },
   "source": [
    "```python\n",
    "import numpy as np\n",
    "```"
   ]
  },
  {
   "cell_type": "code",
   "execution_count": null,
   "metadata": {
    "slideshow": {
     "slide_type": "fragment"
    }
   },
   "outputs": [],
   "source": []
  },
  {
   "cell_type": "markdown",
   "metadata": {
    "slideshow": {
     "slide_type": "subslide"
    }
   },
   "source": [
    "## NumPy | Creating an Array"
   ]
  },
  {
   "cell_type": "markdown",
   "metadata": {
    "slideshow": {
     "slide_type": "notes"
    }
   },
   "source": [
    "Let's go through a couple of ways we can create a numpy array\n",
    "We are already familiar with python's list, which is elements in sequence.\n",
    "Note: array and list are two different things\n",
    "\n",
    "```python\n",
    "py_list = [1,2,3]\n",
    "```\n",
    "\n",
    "if we want to convert it to numpy array we can do\n",
    "```python\n",
    "np.array(py_list)\n",
    "```\n",
    "\n",
    "if you check a type of this object you can see that it's no longer a list, it's a np.ndarray,ndarray means N dimensional array\n"
   ]
  },
  {
   "cell_type": "code",
   "execution_count": 5,
   "metadata": {
    "slideshow": {
     "slide_type": "fragment"
    }
   },
   "outputs": [
    {
     "data": {
      "text/plain": [
       "array([1, 2, 3])"
      ]
     },
     "execution_count": 5,
     "metadata": {},
     "output_type": "execute_result"
    }
   ],
   "source": [
    "py_list = [1,2,3]\n",
    "\n",
    "np.array(py_list)"
   ]
  },
  {
   "cell_type": "markdown",
   "metadata": {
    "slideshow": {
     "slide_type": "subslide"
    }
   },
   "source": [
    "## NumPy | Array of Type\n",
    "\n",
    "* NumPy arrays are homogeneous - all elements are of the same type"
   ]
  },
  {
   "cell_type": "markdown",
   "metadata": {},
   "source": [
    "## NumPy\n",
    "\n",
    "* Indexed by a tuple of non-negative integers\n",
    "* In NumPy dimensions are called axes\n",
    "* NumPy’s array class is called `ndarray`. It is also known by the alias `array`\n",
    "* `numpy.array` != `Python's array.array`"
   ]
  },
  {
   "cell_type": "markdown",
   "metadata": {
    "slideshow": {
     "slide_type": "subslide"
    }
   },
   "source": [
    "## NumPy\n",
    "\n",
    "__*Example #1__\n",
    "\n",
    "* RGB value of the pixel can be represented as `[0, 113, 197]`\n",
    "* This array has one axis\n",
    "* That axis has 3 elements in it. We say it has a length of 3\n",
    "\n",
    "__Example #2__\n",
    "\n",
    "* A multicolor line can be represented as\n",
    "  ```\n",
    "  [[  0, 113, 197],\n",
    "   [ 58,  64,  59]]\n",
    "  ```\n",
    "* This array has 2 axes\n",
    "* The first axis is of length 2\n",
    "* The second axis has a length of 3"
   ]
  },
  {
   "cell_type": "markdown",
   "metadata": {
    "slideshow": {
     "slide_type": "notes"
    }
   },
   "source": [
    "TODO Example 3 na malym obrazku, troche dalej po shape itp itd"
   ]
  },
  {
   "cell_type": "markdown",
   "metadata": {
    "slideshow": {
     "slide_type": "subslide"
    }
   },
   "source": [
    "## NumPy"
   ]
  },
  {
   "cell_type": "code",
   "execution_count": 4,
   "metadata": {},
   "outputs": [
    {
     "name": "stdout",
     "output_type": "stream",
     "text": [
      "Collecting numpy\n",
      "  Downloading numpy-1.19.1-cp36-cp36m-win_amd64.whl (12.9 MB)\n",
      "Installing collected packages: numpy\n",
      "Successfully installed numpy-1.19.1\n"
     ]
    }
   ],
   "source": [
    "!conda install ny"
   ]
  },
  {
   "cell_type": "markdown",
   "metadata": {
    "slideshow": {
     "slide_type": "subslide"
    }
   },
   "source": [
    "## NumPy"
   ]
  },
  {
   "cell_type": "code",
   "execution_count": 54,
   "metadata": {
    "slideshow": {
     "slide_type": "fragment"
    }
   },
   "outputs": [
    {
     "name": "stdout",
     "output_type": "stream",
     "text": [
      "ndarray.ndim = 2\n",
      "ndarray.shape = (2, 3)\n",
      "ndarray.size = 6\n",
      "ndarray.dtype = int64\n",
      "ndarray.itemsize = 8\n"
     ]
    }
   ],
   "source": [
    "import numpy as np\n",
    "\n",
    "a = np.array([[  0, 113, 197],\n",
    "              [ 58,  64,  59]])\n",
    "\n",
    "# ndarray.ndim\n",
    "# the number of axes (dimensions) of the array.\n",
    "print(f'ndarray.ndim = {a.ndim}')\n",
    "\n",
    "# ndarray.shape\n",
    "# the dimensions of the array. This is a tuple of integers indicating the size of the array in each dimension.\n",
    "# For a matrix with n rows and m columns, shape will be (n,m). \n",
    "# The length of the shape tuple is therefore the number of axes, ndim.\n",
    "print(f'ndarray.shape = {a.shape}')\n",
    "\n",
    "# ndarray.size\n",
    "# the total number of elements of the array. This is equal to the product of the elements of shape.\n",
    "print(f'ndarray.size = {a.size}')\n",
    "\n",
    "# ndarray.dtype\n",
    "# an object describing the type of the elements in the array. One can create or specify dtype’s using standard Python types. Additionally NumPy provides types of its own. numpy.int32, numpy.int16, and numpy.float64 are some examples.\n",
    "print(f'ndarray.dtype = {a.dtype}')\n",
    "\n",
    "# ndarray.itemsize\n",
    "# the size in bytes of each element of the array. For example, an array of elements of type float64 has itemsize 8 (=64/8), while one of type complex32 has itemsize 4 (=32/8). It is equivalent to ndarray.dtype.itemsize.\n",
    "print(f'ndarray.itemsize = {a.itemsize}')\n",
    "\n",
    "# ndarray.data\n",
    "# the buffer containing the actual elements of the array. Normally, we won’t need to use this attribute because we will access the elements in an array using indexing facilities."
   ]
  },
  {
   "cell_type": "code",
   "execution_count": 38,
   "metadata": {},
   "outputs": [
    {
     "name": "stdout",
     "output_type": "stream",
     "text": [
      "Function fun_numpy(1000) returned 1000000 in: 0.00170ms\n",
      "Function fun_std(1000) returned 1000000 in: 0.12697ms\n"
     ]
    },
    {
     "data": {
      "text/plain": [
       "1000000"
      ]
     },
     "execution_count": 38,
     "metadata": {},
     "output_type": "execute_result"
    }
   ],
   "source": [
    "# TODO to moze powinno byc potem\n",
    "\n",
    "@timeit\n",
    "def fun_numpy(x):\n",
    "    import numpy as np\n",
    "    a = np.ones((x,x), dtype=np.int32)\n",
    "    return a.sum()\n",
    "\n",
    "@timeit\n",
    "def fun_std(x):\n",
    "    a = [[1 for _ in range(x)] for _ in range(x)]\n",
    "    s = 0\n",
    "    for i, _ in enumerate(a):\n",
    "        for j, _ in enumerate(a[0]):\n",
    "            s += a[i][j]\n",
    "    return s\n",
    "\n",
    "n = 1000\n",
    "fun_numpy(n)\n",
    "fun_std(n)"
   ]
  },
  {
   "cell_type": "markdown",
   "metadata": {},
   "source": [
    "TODO argument for multiprocessing"
   ]
  },
  {
   "cell_type": "markdown",
   "metadata": {
    "slideshow": {
     "slide_type": "subslide"
    }
   },
   "source": [
    "## NumPy: arrays"
   ]
  },
  {
   "cell_type": "markdown",
   "metadata": {
    "slideshow": {
     "slide_type": "subslide"
    }
   },
   "source": [
    "## Numpy: boolean array indexing"
   ]
  },
  {
   "cell_type": "markdown",
   "metadata": {
    "slideshow": {
     "slide_type": "subslide"
    }
   },
   "source": [
    "## Numpy: datatypes"
   ]
  },
  {
   "cell_type": "markdown",
   "metadata": {
    "slideshow": {
     "slide_type": "subslide"
    }
   },
   "source": [
    "## Numpy: operations on arrays"
   ]
  },
  {
   "cell_type": "markdown",
   "metadata": {
    "slideshow": {
     "slide_type": "subslide"
    }
   },
   "source": [
    "## Numpy: broadcasting"
   ]
  },
  {
   "cell_type": "markdown",
   "metadata": {
    "slideshow": {
     "slide_type": "slide"
    }
   },
   "source": [
    "# Graph Framework"
   ]
  },
  {
   "cell_type": "markdown",
   "metadata": {},
   "source": [
    "Like TensorFlow, it will be lazy:\n",
    "\n",
    "    1. Build the GRAPH, which represents the data flow of the computations\n",
    "    2. Run a SESSION, which executes the operations in the graph"
   ]
  },
  {
   "cell_type": "markdown",
   "metadata": {},
   "source": [
    "## Graph Framework: Operations"
   ]
  },
  {
   "cell_type": "code",
   "execution_count": null,
   "metadata": {},
   "outputs": [],
   "source": [
    "class Operation(object):\n",
    "    def __init__(self, input_nodes=[]):\n",
    "        self.input_nodes = input_nodes\n",
    "        self.output_nodes = []\n",
    "        \n",
    "        for node in input_nodes:\n",
    "            node.output_nodes.append(self)\n",
    "        \n",
    "        _default_graph.operations.append(self)\n",
    "    \n",
    "    def compute(self):\n",
    "        raise NotImplemented()"
   ]
  },
  {
   "cell_type": "code",
   "execution_count": null,
   "metadata": {},
   "outputs": [],
   "source": [
    "class Add(Operation):\n",
    "    def __init__(self, x, y):\n",
    "        super().__init__([x, y])\n",
    "    \n",
    "    def compute(self, x_var, y_var):\n",
    "        self.inputs = [x_var, y_var]\n",
    "        return x_var + y_var"
   ]
  },
  {
   "cell_type": "code",
   "execution_count": null,
   "metadata": {},
   "outputs": [],
   "source": [
    "class Mul(Operation):\n",
    "    def __init__(self, x, y):\n",
    "        super().__init__([x, y])\n",
    "    \n",
    "    def compute(self, x_var, y_var):\n",
    "        self.inputs = [x_var, y_var]\n",
    "        return x_var * y_var"
   ]
  },
  {
   "cell_type": "code",
   "execution_count": null,
   "metadata": {},
   "outputs": [],
   "source": [
    "class MatMul(Operation):\n",
    "    def __init__(self, x, y):\n",
    "        super().__init__([x, y])\n",
    "    \n",
    "    def compute(self, x_var, y_var):\n",
    "        self.inputs = [x_var, y_var]\n",
    "        return x_var.dot(y_var)"
   ]
  },
  {
   "cell_type": "markdown",
   "metadata": {},
   "source": [
    "## Graph Framework: Placeholders, Variables and Graph object"
   ]
  },
  {
   "cell_type": "markdown",
   "metadata": {},
   "source": [
    "* Placeholder - a special node which is used as data input\n",
    "* Variable - changable parameter of the graph\n",
    "* Graph - a global variable which connects variables and placeholders to operations"
   ]
  },
  {
   "cell_type": "code",
   "execution_count": null,
   "metadata": {},
   "outputs": [],
   "source": [
    "class Placeholder(object):\n",
    "    def __init__(self):\n",
    "        self.output_nodes = []\n",
    "        _default_graph.placeholders.append(self)"
   ]
  },
  {
   "cell_type": "code",
   "execution_count": null,
   "metadata": {},
   "outputs": [],
   "source": [
    "class Variable(object):\n",
    "    def __init__(self, initial_value=None):\n",
    "        self.value = initial_value\n",
    "        self.output_nodes = []\n",
    "        \n",
    "        _default_graph.variables.append(self)"
   ]
  },
  {
   "cell_type": "code",
   "execution_count": null,
   "metadata": {},
   "outputs": [],
   "source": [
    "class Graph(object):\n",
    "    def __init__(self):\n",
    "        self.operations = []\n",
    "        self.placeholders = []\n",
    "        self.variables = []\n",
    "    \n",
    "    def set_as_default(self):\n",
    "        global _default_graph\n",
    "        _default_graph = self"
   ]
  },
  {
   "cell_type": "markdown",
   "metadata": {},
   "source": [
    "z = Ax + b\n",
    "\n",
    "A = 10\n",
    "\n",
    "b = 1\n",
    "\n",
    "z = 10x + 1"
   ]
  },
  {
   "cell_type": "code",
   "execution_count": null,
   "metadata": {},
   "outputs": [],
   "source": [
    "g = Graph()\n",
    "g.set_as_default()\n",
    "\n",
    "A = Variable(10)\n",
    "b = Variable(1)\n",
    "x = Placeholder()\n",
    "\n",
    "y = Mul(A, x)\n",
    "z = Add(y, b)\n",
    "\n",
    "print(z)"
   ]
  },
  {
   "cell_type": "markdown",
   "metadata": {
    "slideshow": {
     "slide_type": "slide"
    }
   },
   "source": [
    "## Graph Framework: Session"
   ]
  },
  {
   "cell_type": "code",
   "execution_count": null,
   "metadata": {
    "slideshow": {
     "slide_type": "subslide"
    }
   },
   "outputs": [],
   "source": [
    "class Session(object):\n",
    "    def run(self, operation, feed_dict={}):\n",
    "        nodes_postorder = self._traverse_postorder(operation)\n",
    "        \n",
    "        for node in nodes_postorder:\n",
    "            if type(node) == Placeholder:\n",
    "                node.output = feed_dict[node]\n",
    "                \n",
    "            elif type(node) == Variable:\n",
    "                node.output = node.value\n",
    "                \n",
    "            else:\n",
    "                node.inputs = [input_node.output for input_node in node.input_nodes]\n",
    "                node.output = node.compute(*node.inputs)\n",
    "            \n",
    "            if type(node.output) == list:\n",
    "                node.output = np.array(node.output)\n",
    "        return operation.output\n",
    "                \n",
    "    def _traverse_postorder(self, operation):\n",
    "        nodes_postorder = []\n",
    "        \n",
    "        def recurse(node):\n",
    "            if isinstance(node, Operation):\n",
    "                for input_node in node.input_nodes:\n",
    "                    recurse(input_node)\n",
    "            nodes_postorder.append(node)\n",
    "            \n",
    "        recurse(operation)\n",
    "        return nodes_postorder\n",
    "        "
   ]
  },
  {
   "cell_type": "code",
   "execution_count": null,
   "metadata": {
    "slideshow": {
     "slide_type": "subslide"
    }
   },
   "outputs": [],
   "source": [
    "sess = Session()\n",
    "sess.run(operation=z, feed_dict={x: 10})"
   ]
  },
  {
   "cell_type": "markdown",
   "metadata": {
    "slideshow": {
     "slide_type": "slide"
    }
   },
   "source": [
    "# TensorFlow"
   ]
  },
  {
   "cell_type": "markdown",
   "metadata": {
    "slideshow": {
     "slide_type": "slide"
    }
   },
   "source": [
    "# PyTorch"
   ]
  }
 ],
 "metadata": {
  "celltoolbar": "Slideshow",
  "kernelspec": {
   "display_name": "Python 3",
   "language": "python",
   "name": "python3"
  },
  "language_info": {
   "codemirror_mode": {
    "name": "ipython",
    "version": 3
   },
   "file_extension": ".py",
   "mimetype": "text/x-python",
   "name": "python",
   "nbconvert_exporter": "python",
   "pygments_lexer": "ipython3",
   "version": "3.6.10"
  },
  "rise": {
   "enable_chalkboard": true,
   "theme": "serif"
  }
 },
 "nbformat": 4,
 "nbformat_minor": 2
}
