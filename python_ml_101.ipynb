{
 "cells": [
  {
   "cell_type": "markdown",
   "metadata": {
    "slideshow": {
     "slide_type": "slide"
    }
   },
   "source": [
    "# Python for Machine Learning\n",
    "\n",
    "## Maciej Szankin"
   ]
  },
  {
   "cell_type": "markdown",
   "metadata": {
    "slideshow": {
     "slide_type": "slide"
    }
   },
   "source": [
    "# About me\n",
    "\n",
    "<div style=\"float:left; padding:30px;\">\n",
    "    <img src=\"https://avatars0.githubusercontent.com/u/4785345?s=460&u=347ee5cbd03d6f3972af3b66ec530eef19f1af1e&v=4\" style=\"width:300px;\" />\n",
    "</div>\n",
    "<div style=\"float:left; padding:30px;\">\n",
    "    <h2>Maciej Szankin</h2>\n",
    "    <h4>Deep Learning Software Engineer @ Intel</h4>\n",
    "</div>"
   ]
  },
  {
   "cell_type": "markdown",
   "metadata": {
    "slideshow": {
     "slide_type": "slide"
    }
   },
   "source": [
    "# Introduction - How do I participate?\n",
    "\n",
    "TODO Presentation: add link\n",
    "\n",
    "* Slack #ml\n",
    "* Run Locally\n",
    "    1. Install Python\n",
    "        * Python\n",
    "        * Anaconda\n",
    "    2. Run...\n",
    "        * ... as a script\n",
    "        * ... in a REPL\n",
    "        * ... in a Notebook\n",
    "    \n",
    "* Run Remotely\n",
    "    * Google Colab\n",
    "    * ML Server"
   ]
  },
  {
   "cell_type": "markdown",
   "metadata": {
    "slideshow": {
     "slide_type": "subslide"
    }
   },
   "source": [
    "## Introduction | Run Locally\n",
    "\n",
    "* If you are on Linux or Mac you should have Python availabile\n",
    "* For Windows users: https://www.python.org/downloads/windows/\n",
    "\n",
    "__... but either way you should really use Anaconda__\n",
    "\n",
    "* It's a Python distribution - manage not only Python packages, but also additional libraries / drivers\n",
    "* Get it from: https://www.anaconda.com/products/individual\n",
    "* `conda install` vs `pip install`"
   ]
  },
  {
   "cell_type": "markdown",
   "metadata": {
    "slideshow": {
     "slide_type": "subslide"
    }
   },
   "source": [
    "* CPU-focused optimizations are included\n",
    "* MKL support in most packages by default\n",
    "\n",
    "\n",
    "* Intel® Distribution for Python* and Intel® Performance Libraries with Anaconda - https://software.intel.com/content/www/us/en/develop/articles/using-intel-distribution-for-python-with-anaconda.html\n",
    "* Read more: https://www.anaconda.com/blog/tensorflow-cpu-optimizations-in-anaconda"
   ]
  },
  {
   "cell_type": "markdown",
   "metadata": {
    "slideshow": {
     "slide_type": "subslide"
    }
   },
   "source": [
    "* Run as a script\n",
    "* or use Jupyter Notebook\n",
    "\n",
    "```bash\n",
    "pip install jupyter\n",
    "\n",
    "# or even better:\n",
    "conda install jupyter\n",
    "```"
   ]
  },
  {
   "cell_type": "markdown",
   "metadata": {
    "slideshow": {
     "slide_type": "subslide"
    }
   },
   "source": [
    "## Introduction | Notebooks\n",
    "\n",
    "```bash\n",
    "cd ~/workspace/\n",
    "jupyter notebook\n",
    "```"
   ]
  },
  {
   "cell_type": "markdown",
   "metadata": {
    "slideshow": {
     "slide_type": "subslide"
    }
   },
   "source": [
    "## Introduction | Run Remotely\n",
    "\n",
    "* Google Colab\n",
    "* ML Server -  http://ml.eti.pg.gda.pl/"
   ]
  },
  {
   "cell_type": "markdown",
   "metadata": {
    "slideshow": {
     "slide_type": "subslide"
    }
   },
   "source": [
    "## Introduction | Run Remotely | Google Colab\n",
    "\n",
    "* Available at https://colab.research.google.com/\n",
    "* It's free! You only need a Google account to access\n",
    "* Offers different environment: CPU / GPU / TPU\n",
    "* Resources are not guaranteed\n",
    "* Avoid hogging resources - you can get lower priority in the future if requested resources are not actievely used!\n",
    "* For improved experience - Colab Pro - https://colab.research.google.com/signup"
   ]
  },
  {
   "cell_type": "markdown",
   "metadata": {
    "slideshow": {
     "slide_type": "subslide"
    }
   },
   "source": [
    "* You can execute bash commands in a cell.\n",
    "* Prepend your command with ! to run it in a shell\n",
    "* When running Google Colab you get your own virtualized environment - you can install packages\n",
    "* The environment will be cleaned upon exiting - make your life easier and install all additional dependencies in the first cell.\n",
    "\n",
    "* Example command to install Python's wget:\n",
    "\n",
    "    ```bash\n",
    "    !pip install wget\n",
    "    ```\n",
    "    Verify:\n",
    "\n",
    "    ```python\n",
    "    import wget\n",
    "    wget.__version__\n",
    "    ```"
   ]
  },
  {
   "cell_type": "markdown",
   "metadata": {
    "slideshow": {
     "slide_type": "subslide"
    }
   },
   "source": [
    "## Introduction | Run Remotely | ML Server\n",
    "\n",
    "* Available at http://ml.eti.pg.gda.pl/\n",
    "* JupyterHub-based preconfigured environment deployed for this School\n",
    "* Server is located in Gdansk, Poland\n",
    "* Use it if you can't use Google Colab"
   ]
  },
  {
   "cell_type": "markdown",
   "metadata": {
    "slideshow": {
     "slide_type": "subslide"
    }
   },
   "source": [
    "* You can execute bash commands in a cell.\n",
    "* Installing new packages: "
   ]
  },
  {
   "cell_type": "markdown",
   "metadata": {
    "slideshow": {
     "slide_type": "fragment"
    }
   },
   "source": [
    "<center><h2>You can't! Sorry! 💔</h2></center>"
   ]
  },
  {
   "cell_type": "markdown",
   "metadata": {
    "slideshow": {
     "slide_type": "subslide"
    }
   },
   "source": [
    "## Introduction | Notebook Tricks\n",
    "\n",
    "* Command dialog - `cmd + shift + p` / `ctrl + shift + p`\n",
    "    * `Esc` command mode\n",
    "    * `m` / `y` to switch cell's type to markdown/code\n",
    "    * `a` / `b` to insert a new cell above/below the current cell\n",
    "    * `shift + tab` to show doc for the selected object\n",
    "    * `ctrl + shift + -` to split cell in half at cursor's position\n",
    "* Bash commands in a cell - `!<bash_command>`\n",
    "* Cell with different kernel (`%%bash`/`%%HTML`/`%%python2`/`%%python3`/`%%ruby`/`%%perl`)\n",
    "* Python variables in bash\n",
    "* LaTeX - `$ formula $`"
   ]
  },
  {
   "cell_type": "markdown",
   "metadata": {
    "slideshow": {
     "slide_type": "notes"
    }
   },
   "source": [
    "...\n",
    "* Bash commands in a cell - !<bash_command>\n",
    "  ```\n",
    "  !pip list\n",
    "  ```\n",
    "* Cell with different kernel\n",
    "  ```\n",
    "  %%bash\n",
    "  for i in {1..5}\n",
    "  do echo $i;\n",
    "  done;\n",
    "  ```\n",
    "* Python variables in bash\n",
    "  ```\n",
    "  foo = 'bar'\n",
    "  !echo $foo\n",
    "  ```\n",
    "* LaTeX\n",
    "  ```\n",
    "  $P(A \\mid B) = \\frac{P(B \\mid A)P(A)}{P(B)}$\n",
    "  ```"
   ]
  },
  {
   "cell_type": "code",
   "execution_count": 21,
   "metadata": {
    "slideshow": {
     "slide_type": "fragment"
    }
   },
   "outputs": [],
   "source": [
    "# code"
   ]
  },
  {
   "cell_type": "markdown",
   "metadata": {
    "slideshow": {
     "slide_type": "fragment"
    }
   },
   "source": [
    "__Markdown__"
   ]
  },
  {
   "cell_type": "markdown",
   "metadata": {
    "slideshow": {
     "slide_type": "slide"
    }
   },
   "source": [
    "# 🐍 Python"
   ]
  },
  {
   "cell_type": "markdown",
   "metadata": {
    "slideshow": {
     "slide_type": "subslide"
    }
   },
   "source": [
    "<center>\n",
    "    <img src=\"https://imgs.xkcd.com/comics/python.png\" alt=\"Python: https://xkcd.com/353/\" />\n",
    "    <div><i>Source: <a href=\"https://xkcd.com/353/\" target=\"_blank\">XKCD 353</a></i></div>\n",
    "</center>"
   ]
  },
  {
   "cell_type": "markdown",
   "metadata": {
    "slideshow": {
     "slide_type": "subslide"
    }
   },
   "source": [
    "* Object Oriented\n",
    "* however #1 - no explicit encapsulation: \"After all, we're all consenting adults here.\"\n",
    "* however #2 - no class interface, only (multi)inheritance\n",
    "* multi-paradigm\n",
    "* interpreted\n",
    "* strongly typed\n",
    "* dynamically typed\n",
    "* 🦆 duck typing\n",
    "* garbage collector\n",
    "* designed for code clarity\n",
    "* object introspection\n",
    "* interactive mode (terminal / IPython)\n",
    "* interfaces to many popular programming languages:\n",
    "    * C++\n",
    "    * Java\n",
    "    * .NET\n",
    "    * and many others\n",
    "* has it's own package manager - pip & easy_install\n",
    "* before writing a library - check if it exists"
   ]
  },
  {
   "cell_type": "markdown",
   "metadata": {
    "slideshow": {
     "slide_type": "notes"
    }
   },
   "source": [
    "* We will do a general overview of the Python, some programming experience is expected.\n",
    "* Now, Before we go into python code let's quickly go through some features that make python great, especially for data science\n",
    "\n",
    "* Object Oriented\n",
    "     * Object-oriented programming is a programming paradigm that provides a means of structuring programs so that properties and behaviors are bundled into individual objects.\n",
    "* however #1 - no explicit encapsulation: \"After all, we're all consenting adults here.\"\n",
    "    * Python does not have the private keyword, unlike some other object oriented languages.\n",
    "    * Instead, it relies on the convention: a class variable that should not directly be accessed should be prefixed with an underscore. It's more of an agreement that can be violated\n",
    "* however #2 - no class interface, only (multi)inheritance\n",
    "    * python does not have any equivalent of interfaces . Since Python does support multiple inheritance, you can easily emulate the equivalence of interfaces. ... Interfaces are concepts that belong to statically typed languages such as Java or C#, and do not really apply to dynamic language such as Pytho\n",
    "* multi-paradigm\n",
    "    * object oriented programming\n",
    "    * structured programming\n",
    "    * functional programming\n",
    "* interpreted\n",
    "* strongly typed\n",
    "    *  forbidding operations that are not well-defined (for example, adding a number to a string) rather than silently attempting to make sense of them.\n",
    "* dynamically typed\n",
    "    * Python doesn't know about the type of the variable until the code is run\n",
    "* duck typing\n",
    "    * \"If it walks like a duck and it quacks like a duck, then it must be a duck\"— to determine if an object can be used for a particular purpose. With normal typing, suitability is determined by an object's type. In duck typing, an object's suitability is determined by the presence of certain methods and properties, rather than the type of the object itself.\n",
    "* garbage collector\n",
    "    * reference counting and cycle-detecing garbage collector for memory management\n",
    "* designed for code clarity\n",
    "    * ex loops: `for element in collection`\n",
    "* object introspection\n",
    "    * By using introspection, we can dynamically examine python objects. Code Introspection is used for examining the classes, methods, objects, modules, keywords and get information about them so that we can utilize it.\n",
    "* interactive mode (terminal / IPython)\n",
    "* interfaces to many popular programming languages:\n",
    "    * C++\n",
    "    * Java\n",
    "    * .NET\n",
    "    * and many others\n",
    "* has it's own package manager - pip & easy_install\n",
    "* before writing a library - check if it exists"
   ]
  },
  {
   "cell_type": "markdown",
   "metadata": {
    "slideshow": {
     "slide_type": "subslide"
    }
   },
   "source": [
    "## Python | List"
   ]
  },
  {
   "cell_type": "code",
   "execution_count": 2,
   "metadata": {
    "slideshow": {
     "slide_type": "fragment"
    }
   },
   "outputs": [
    {
     "ename": "TypeError",
     "evalue": "can't multiply sequence by non-int of type 'list'",
     "output_type": "error",
     "traceback": [
      "\u001b[1;31m---------------------------------------------------------------------------\u001b[0m",
      "\u001b[1;31mTypeError\u001b[0m                                 Traceback (most recent call last)",
      "\u001b[1;32m<ipython-input-2-f47be15bd4db>\u001b[0m in \u001b[0;36m<module>\u001b[1;34m\u001b[0m\n\u001b[1;32m----> 1\u001b[1;33m \u001b[1;33m[\u001b[0m\u001b[1;36m1\u001b[0m\u001b[1;33m,\u001b[0m\u001b[1;36m2\u001b[0m\u001b[1;33m,\u001b[0m\u001b[1;36m3\u001b[0m\u001b[1;33m]\u001b[0m\u001b[1;33m*\u001b[0m\u001b[1;33m[\u001b[0m\u001b[1;36m1\u001b[0m\u001b[1;33m,\u001b[0m\u001b[1;36m2\u001b[0m\u001b[1;33m]\u001b[0m\u001b[1;33m\u001b[0m\u001b[1;33m\u001b[0m\u001b[0m\n\u001b[0m",
      "\u001b[1;31mTypeError\u001b[0m: can't multiply sequence by non-int of type 'list'"
     ]
    }
   ],
   "source": [
    "[1,2,3]*"
   ]
  },
  {
   "cell_type": "markdown",
   "metadata": {
    "slideshow": {
     "slide_type": "notes"
    }
   },
   "source": [
    "```python\n",
    "my_list = [0]*10\n",
    "my_list = list(range(10))\n",
    "my_list\n",
    "my_list[2]\n",
    "my_list[-1]\n",
    "my_list[4:10]\n",
    "my_list[4:]\n",
    "my_list[:]\n",
    "\n",
    "#2D - we can create a 2d list\n",
    "r = 2\n",
    "c = 5\n",
    "list2d = [[0]*c for _ in range(r)]  # this is called list comprehension\n",
    "list2d[0]\n",
    "list2d[0][3]\n",
    "# what's worth mentioning is people often call 2d list a 2d array - it's not the same. \n",
    "# A 2D list is more precisely a list of lists which only sometimes happens to be of the rectangular shape.\n",
    "# What is the difference between 2d list and python's array, you may ask\n",
    "# For 99% cases you are fine with lists - if you haven't used python's arrays so far then most likely you just never needed\n",
    "# to - and that's fine!\n",
    "# arrays by definition are homogenous - all objects within array must be of the same type\n",
    "# lists are heterogenous, they don't care for data type\n",
    "# arrays tend to be faster and more memory efficient, but for some operations they can be super slow - like expending the array\n",
    "#     the array module is used to interface with C code\n",
    "# lists are heavier, as every single element is a python object, \n",
    "#     but on the other hand adding new elements happens in amortized constant cost\n",
    "# we will not be going into more details on python's array, as we will be covering something more interesting in few slides\n",
    "```"
   ]
  },
  {
   "cell_type": "markdown",
   "metadata": {
    "slideshow": {
     "slide_type": "subslide"
    }
   },
   "source": [
    "## Python | Scope"
   ]
  },
  {
   "cell_type": "code",
   "execution_count": null,
   "metadata": {},
   "outputs": [],
   "source": []
  },
  {
   "cell_type": "markdown",
   "metadata": {
    "slideshow": {
     "slide_type": "fragment"
    }
   },
   "source": [
    "```python\n",
    "x = 4 # comment it in in the end\n",
    "\n",
    "def fun():\n",
    "    #global x\n",
    "    #x = x+1\n",
    "    return x+1\n",
    "\n",
    "fun()\n",
    "```"
   ]
  },
  {
   "cell_type": "markdown",
   "metadata": {
    "slideshow": {
     "slide_type": "slide"
    }
   },
   "source": [
    "# NumPy"
   ]
  },
  {
   "cell_type": "markdown",
   "metadata": {
    "slideshow": {
     "slide_type": "subslide"
    }
   },
   "source": [
    "## NumPy\n",
    "\n",
    "* linear algegra library for python\n",
    "* main building block for data-oriented libaries\n",
    "* It's fast\n",
    "* Even faster if you install it using Anaconda\n",
    "\n",
    "```bash\n",
    "pip install numpy\n",
    "# or\n",
    "conda install numpy\n",
    "```"
   ]
  },
  {
   "cell_type": "markdown",
   "metadata": {
    "slideshow": {
     "slide_type": "notes"
    }
   },
   "source": [
    "Now that we have refeshed our python, it's time to learn about our first python data analysis library in this lecture - NumPy.\n",
    "\n",
    "* it's a linear algebra library for python\n",
    "* it's super important for Data science - almost all python data-oriented libraryies rely on NumPy as their main building block.\n",
    "* you may think that python, as a interpreted language is slow, but, again, there are C libraries bindings thanks to which NumPy can be blazingly fast\n",
    "\n",
    "```python\n",
    "import numpy as np\n",
    "```"
   ]
  },
  {
   "cell_type": "code",
   "execution_count": null,
   "metadata": {
    "slideshow": {
     "slide_type": "fragment"
    }
   },
   "outputs": [],
   "source": []
  },
  {
   "cell_type": "markdown",
   "metadata": {
    "slideshow": {
     "slide_type": "subslide"
    }
   },
   "source": [
    "## NumPy | Creating Arrays"
   ]
  },
  {
   "cell_type": "markdown",
   "metadata": {
    "slideshow": {
     "slide_type": "notes"
    }
   },
   "source": [
    "```python\n",
    "# single dimensional list/array\n",
    "my_list = [0,1,2,3,4]\n",
    "arr = np.array(my_list)\n",
    "arr\n",
    "# two dimensional\n",
    "my_mat = [[1,2,3], [4,5,6], [7,8,9]]\n",
    "np.array(my_mat)\n",
    "\n",
    "# usually however, you will be using numpys built in methods to create np arrays a lot faster\n",
    "\n",
    "np.arange(0,10) # similar to python's range\n",
    "np.arange(0,10, 2)\n",
    "\n",
    "np.arange(0,10).reshape(2,5) # reshape\n",
    "\n",
    "np.zeros(3)\n",
    "np.zeros((5,5)) # rows, columns\n",
    "\n",
    "np.ones((2,4))\n",
    "\n",
    "np.linspace(0,10,6) # dont confuse it with arrange, arrange will give points in increments of integer, and linspace\n",
    "# will give us exactly N points in given range\n",
    "np.linspace(0,10,101)\n",
    "\n",
    "np.eye(4) # NxN as identity matrix must be square,\n",
    "# identity matrix is useful matrix is a useful matrix when dealing with linear algegra problems\n",
    "\n",
    "np.random.rand(2) # will populate given range with a population of uniform distribution over 0 to 1\n",
    "np.random.rand(2,2) # weirdly enough, for more dimensions we do not pass tuple, but instead we just add another argument\n",
    "\n",
    "np.random.randint(0,10)  # will draw a single int from given range\n",
    "np.random.randint(0,10,(3,3)) # will draw a 3x3 array from given range\n",
    "\n",
    "np.random.randn(4) # draw N samples for normal distribution centered around 0\n",
    "```"
   ]
  },
  {
   "cell_type": "code",
   "execution_count": null,
   "metadata": {
    "slideshow": {
     "slide_type": "fragment"
    }
   },
   "outputs": [],
   "source": []
  },
  {
   "cell_type": "markdown",
   "metadata": {
    "slideshow": {
     "slide_type": "subslide"
    }
   },
   "source": [
    "## NumPy | Data types\n",
    "\n",
    "* NumPy arrays are homogeneous (elements of the same type)"
   ]
  },
  {
   "cell_type": "markdown",
   "metadata": {
    "slideshow": {
     "slide_type": "notes"
    }
   },
   "source": [
    "```python\n",
    "l = np.array([1,2])\n",
    "print(l.dtype)\n",
    "\n",
    "l = np.array([1.0,2.0])\n",
    "print(l.dtype)\n",
    "\n",
    "l = np.array([1.0,2.0], dtype=np.int16)\n",
    "print(l.dtype)\n",
    "```"
   ]
  },
  {
   "cell_type": "code",
   "execution_count": null,
   "metadata": {
    "slideshow": {
     "slide_type": "fragment"
    }
   },
   "outputs": [],
   "source": []
  },
  {
   "cell_type": "markdown",
   "metadata": {
    "slideshow": {
     "slide_type": "subslide"
    }
   },
   "source": [
    "## NumPy | Operations"
   ]
  },
  {
   "cell_type": "code",
   "execution_count": null,
   "metadata": {
    "slideshow": {
     "slide_type": "notes"
    }
   },
   "outputs": [],
   "source": []
  },
  {
   "cell_type": "code",
   "execution_count": 101,
   "metadata": {
    "slideshow": {
     "slide_type": "fragment"
    }
   },
   "outputs": [
    {
     "name": "stdout",
     "output_type": "stream",
     "text": [
      "[1 6 7 9 8]\n"
     ]
    },
    {
     "data": {
      "text/plain": [
       "dtype('int32')"
      ]
     },
     "execution_count": 101,
     "metadata": {},
     "output_type": "execute_result"
    }
   ],
   "source": [
    "np.random.seed(101)\n",
    "arr = np.random.randint(0,10,(5))\n",
    "print(arr)\n",
    "arr.min()\n",
    "arr.max()\n",
    "arr.argmin()\n",
    "arr.argmax()\n",
    "arr.dtype"
   ]
  },
  {
   "cell_type": "markdown",
   "metadata": {
    "slideshow": {
     "slide_type": "subslide"
    }
   },
   "source": [
    "## NumPy | Indexing"
   ]
  },
  {
   "cell_type": "markdown",
   "metadata": {
    "slideshow": {
     "slide_type": "notes"
    }
   },
   "source": [
    "```python\n",
    "mat = np.arange(0,9).reshape(3, 3)\n",
    "print(mat)\n",
    "\n",
    "print(mat[0][1]) # while we can use syntax just like in python's list\n",
    "print(mat[0,1])  # a coma-seperated indices became a golden standard for getting a value out of numpy;s array\n",
    "print(mat[:,1])\n",
    "print(mat[1,:])\n",
    "print(mat[:2,1:])\n",
    "```"
   ]
  },
  {
   "cell_type": "code",
   "execution_count": null,
   "metadata": {
    "slideshow": {
     "slide_type": "fragment"
    }
   },
   "outputs": [],
   "source": []
  },
  {
   "cell_type": "markdown",
   "metadata": {
    "slideshow": {
     "slide_type": "subslide"
    }
   },
   "source": [
    "## NumPy | Boolean Masking\n",
    "\n"
   ]
  },
  {
   "cell_type": "markdown",
   "metadata": {
    "slideshow": {
     "slide_type": "notes"
    }
   },
   "source": [
    "```python\n",
    "\n",
    "mat>4\n",
    "mat[mat>4]\n",
    "\n",
    "# we can also generate mask for\n",
    "(mat*2) == (mat**2)\n",
    "```\n",
    "```\n",
    "==\tnp.equal\t\t!=\tnp.not_equal\n",
    "<\tnp.less\t\t<=\tnp.less_equal\n",
    ">\tnp.greater\t\t>=\tnp.greater_equal\n",
    "```"
   ]
  },
  {
   "cell_type": "code",
   "execution_count": 118,
   "metadata": {
    "slideshow": {
     "slide_type": "fragment"
    }
   },
   "outputs": [
    {
     "name": "stdout",
     "output_type": "stream",
     "text": [
      "[[0 1 2]\n",
      " [3 4 5]\n",
      " [6 7 8]]\n"
     ]
    },
    {
     "data": {
      "text/plain": [
       "array([[ True, False,  True],\n",
       "       [False, False, False],\n",
       "       [False, False, False]])"
      ]
     },
     "execution_count": 118,
     "metadata": {},
     "output_type": "execute_result"
    }
   ],
   "source": []
  },
  {
   "cell_type": "markdown",
   "metadata": {
    "slideshow": {
     "slide_type": "subslide"
    }
   },
   "source": [
    "## NumPy | Broadcasting\n"
   ]
  },
  {
   "cell_type": "markdown",
   "metadata": {
    "slideshow": {
     "slide_type": "notes"
    }
   },
   "source": [
    "Arithmetic operations on arrays are usually done on corresponding elements. If two arrays are of exactly the same shape, then these operations are smoothly performed.\n",
    "\n",
    "The term broadcasting describes how numpy treats arrays with different shapes during arithmetic operations. Subject to certain constraints, the smaller array is “broadcast” across the larger array so that they have compatible shapes\n",
    "\n",
    "```python\n",
    "# to avioid being a memory hog when dealing with larger matrices, numpy handles matrices as references\n",
    "\n",
    "list_f = np.arange(0,11)\n",
    "list_a = list_f[:5]\n",
    "list_a[:] = 999\n",
    "list_f\n",
    "\n",
    "list_copy = list_f[:5].copy()\n",
    "list_copy[:] = 33\n",
    "list_copy\n",
    "list_f\n",
    "\n",
    "a = np.ones((3,3))\n",
    "a * [1,2,3] * [[1], [2], [3]]\n",
    "a * [2,2] # this will cause an error\n",
    "```"
   ]
  },
  {
   "cell_type": "code",
   "execution_count": null,
   "metadata": {
    "slideshow": {
     "slide_type": "fragment"
    }
   },
   "outputs": [],
   "source": []
  },
  {
   "cell_type": "markdown",
   "metadata": {
    "slideshow": {
     "slide_type": "slide"
    }
   },
   "source": [
    "# Data Visualization"
   ]
  },
  {
   "cell_type": "markdown",
   "metadata": {
    "slideshow": {
     "slide_type": "subslide"
    }
   },
   "source": [
    "## Data Visualization | Matplotlib\n",
    "\n",
    "* very (most?) popular plotting library for Python"
   ]
  },
  {
   "cell_type": "code",
   "execution_count": null,
   "metadata": {},
   "outputs": [],
   "source": []
  },
  {
   "cell_type": "markdown",
   "metadata": {
    "slideshow": {
     "slide_type": "notes"
    }
   },
   "source": [
    "PCA / t-SNE"
   ]
  },
  {
   "cell_type": "markdown",
   "metadata": {
    "slideshow": {
     "slide_type": "slide"
    }
   },
   "source": [
    "# 🐼 Pandas"
   ]
  },
  {
   "cell_type": "markdown",
   "metadata": {
    "slideshow": {
     "slide_type": "subslide"
    }
   },
   "source": [
    "## Pandas\n",
    "\n",
    "* open-source library built on top of NumPy\n",
    "* fast analysis, data cleaning and preparation\n",
    "* built-in visualization features\n",
    "\n",
    "\n",
    "* Excel for Python\n",
    "\n",
    "```bash\n",
    "pip install pandas\n",
    "# or\n",
    "conda install pandas\n",
    "```"
   ]
  },
  {
   "cell_type": "markdown",
   "metadata": {
    "slideshow": {
     "slide_type": "notes"
    }
   },
   "source": [
    "```python\n",
    "import pandas as pd\n",
    "\n",
    "data_url = 'https://gist.githubusercontent.com/macsz/48c62a681de563e16f64438882694443/raw/0a058af5c0e249b77610cb56c804d77e1de7c2b9/data.csv'\n",
    "\n",
    "df = pd.read_csv(data_url)\n",
    "df\n",
    "\n",
    "df['animal']\n",
    "\n",
    "df[['uniq_id', 'animal']]  # mind it's a list\n",
    "\n",
    "df['water_need'].max()\n",
    "\n",
    "df.describe()\n",
    "\n",
    "# Just like NumPy we Can do boolean filters, or masks\n",
    "df['water_need'] > 550\n",
    "\n",
    "df[ df['water_need'] > 550 ]\n",
    "```"
   ]
  },
  {
   "cell_type": "code",
   "execution_count": null,
   "metadata": {
    "slideshow": {
     "slide_type": "fragment"
    }
   },
   "outputs": [],
   "source": []
  },
  {
   "cell_type": "markdown",
   "metadata": {
    "slideshow": {
     "slide_type": "slide"
    }
   },
   "source": [
    "# ???? Preprocessing with SciKit"
   ]
  },
  {
   "cell_type": "markdown",
   "metadata": {
    "slideshow": {
     "slide_type": "slide"
    }
   },
   "source": [
    "# Machine Learning"
   ]
  },
  {
   "cell_type": "markdown",
   "metadata": {
    "slideshow": {
     "slide_type": "slide"
    }
   },
   "source": [
    "# Graph Computing"
   ]
  },
  {
   "cell_type": "markdown",
   "metadata": {
    "slideshow": {
     "slide_type": "subslide"
    }
   },
   "source": [
    "## Graph Computing | Concept\n",
    "\n",
    "* TensorFlow - define graph statically in a session before model can be run\n",
    "* PyTorch - define, change and execute graph nodes as you go\n",
    "\n",
    "**Both TensorFlow and PyTorch process any model as directed acyclic graph (DAG)**"
   ]
  },
  {
   "cell_type": "markdown",
   "metadata": {
    "slideshow": {
     "slide_type": "fragment"
    }
   },
   "source": [
    "<center>\n",
    "    <img src=\"files/graphs.png\" alt=\"DAG vs DCG\" />\n",
    "</center>"
   ]
  },
  {
   "cell_type": "markdown",
   "metadata": {
    "slideshow": {
     "slide_type": "subslide"
    }
   },
   "source": [
    "## Graph Computing | Example"
   ]
  },
  {
   "cell_type": "markdown",
   "metadata": {
    "slideshow": {
     "slide_type": "fragment"
    }
   },
   "source": [
    "$$ res = (15*5) / (15+5) $$"
   ]
  },
  {
   "cell_type": "markdown",
   "metadata": {
    "slideshow": {
     "slide_type": "fragment"
    }
   },
   "source": [
    "$$ a = 5 $$\n",
    "$$ b = 15 $$\n",
    "$$ prod = a * b $$\n",
    "$$ sum = a + b $$\n",
    "$$ res = prod / sum $$"
   ]
  },
  {
   "cell_type": "markdown",
   "metadata": {
    "slideshow": {
     "slide_type": "fragment"
    }
   },
   "source": [
    "<center>\n",
    "    <img src=\"https://miro.medium.com/max/700/1*oo8djcq1ykZxxsSEo6jx2g.gif\" alt=\"Graph processing order\" />\n",
    "    <div><i>Source: <a href=\"https://medium.com/@d3lm/understand-tensorflow-by-mimicking-its-api-from-scratch-faa55787170d\" target=\"_blank\">medium.com</a></i></div>\n",
    "</center>"
   ]
  },
  {
   "cell_type": "markdown",
   "metadata": {
    "slideshow": {
     "slide_type": "subslide"
    }
   },
   "source": [
    "## Graph Framework"
   ]
  },
  {
   "cell_type": "markdown",
   "metadata": {},
   "source": []
  },
  {
   "cell_type": "markdown",
   "metadata": {
    "slideshow": {
     "slide_type": "subslide"
    }
   },
   "source": [
    "## Graph Framework | Operations"
   ]
  },
  {
   "cell_type": "markdown",
   "metadata": {
    "slideshow": {
     "slide_type": "notes"
    }
   },
   "source": [
    "```python\n",
    "class Operation(object):\n",
    "    def __init__(self, input_nodes=[]):\n",
    "        self.input_nodes = input_nodes\n",
    "        self.output_nodes = []\n",
    "        \n",
    "        for node in input_nodes:\n",
    "            node.output_nodes.append(self)\n",
    "        \n",
    "        _default_graph.operations.append(self)\n",
    "    \n",
    "    def compute(self):\n",
    "        raise NotImplemented()\n",
    "```"
   ]
  },
  {
   "cell_type": "code",
   "execution_count": null,
   "metadata": {
    "slideshow": {
     "slide_type": "fragment"
    }
   },
   "outputs": [],
   "source": []
  },
  {
   "cell_type": "markdown",
   "metadata": {
    "slideshow": {
     "slide_type": "subslide"
    }
   },
   "source": [
    "## Graph Framework | Operations | Add"
   ]
  },
  {
   "cell_type": "markdown",
   "metadata": {
    "slideshow": {
     "slide_type": "notes"
    }
   },
   "source": [
    "```python\n",
    "class Add(Operation):\n",
    "    def __init__(self, x, y):\n",
    "        super().__init__([x, y])\n",
    "    \n",
    "    def compute(self, x_var, y_var):\n",
    "        self.inputs = [x_var, y_var]\n",
    "        return x_var + y_var\n",
    "```"
   ]
  },
  {
   "cell_type": "code",
   "execution_count": null,
   "metadata": {
    "slideshow": {
     "slide_type": "fragment"
    }
   },
   "outputs": [],
   "source": []
  },
  {
   "cell_type": "markdown",
   "metadata": {
    "slideshow": {
     "slide_type": "subslide"
    }
   },
   "source": [
    "## Graph Framework | Operations | Multiply"
   ]
  },
  {
   "cell_type": "markdown",
   "metadata": {
    "slideshow": {
     "slide_type": "notes"
    }
   },
   "source": [
    "```python\n",
    "class Mul(Operation):\n",
    "    def __init__(self, x, y):\n",
    "        super().__init__([x, y])\n",
    "    \n",
    "    def compute(self, x_var, y_var):\n",
    "        self.inputs = [x_var, y_var]\n",
    "        return x_var * y_var\n",
    "```"
   ]
  },
  {
   "cell_type": "code",
   "execution_count": null,
   "metadata": {
    "slideshow": {
     "slide_type": "fragment"
    }
   },
   "outputs": [],
   "source": []
  },
  {
   "cell_type": "markdown",
   "metadata": {
    "slideshow": {
     "slide_type": "subslide"
    }
   },
   "source": [
    "## Graph Framework | Operations | MatMul"
   ]
  },
  {
   "cell_type": "markdown",
   "metadata": {
    "slideshow": {
     "slide_type": "notes"
    }
   },
   "source": [
    "```python\n",
    "class MatMul(Operation):\n",
    "    def __init__(self, x, y):\n",
    "        super().__init__([x, y])\n",
    "    \n",
    "    def compute(self, x_var, y_var):\n",
    "        self.inputs = [x_var, y_var]\n",
    "        return x_var.dot(y_var)\n",
    "```"
   ]
  },
  {
   "cell_type": "code",
   "execution_count": null,
   "metadata": {
    "slideshow": {
     "slide_type": "fragment"
    }
   },
   "outputs": [],
   "source": []
  },
  {
   "cell_type": "markdown",
   "metadata": {
    "slideshow": {
     "slide_type": "subslide"
    }
   },
   "source": [
    "## Graph Framework | Placeholder\n",
    "\n",
    "Placeholder - a special node which is used as data input"
   ]
  },
  {
   "cell_type": "markdown",
   "metadata": {
    "slideshow": {
     "slide_type": "notes"
    }
   },
   "source": [
    "```python\n",
    "class Placeholder(object):\n",
    "    def __init__(self):\n",
    "        self.output_nodes = []\n",
    "        _default_graph.placeholders.append(self)\n",
    "```"
   ]
  },
  {
   "cell_type": "code",
   "execution_count": null,
   "metadata": {
    "slideshow": {
     "slide_type": "fragment"
    }
   },
   "outputs": [],
   "source": []
  },
  {
   "cell_type": "markdown",
   "metadata": {
    "slideshow": {
     "slide_type": "subslide"
    }
   },
   "source": [
    "## Graph Framework | Variables"
   ]
  },
  {
   "cell_type": "markdown",
   "metadata": {
    "slideshow": {
     "slide_type": "notes"
    }
   },
   "source": [
    "```python\n",
    "class Variable(object):\n",
    "    def __init__(self, initial_value=None):\n",
    "        self.value = initial_value\n",
    "        self.output_nodes = []\n",
    "        \n",
    "        _default_graph.variables.append(self)\n",
    "```"
   ]
  },
  {
   "cell_type": "code",
   "execution_count": null,
   "metadata": {
    "slideshow": {
     "slide_type": "fragment"
    }
   },
   "outputs": [],
   "source": []
  },
  {
   "cell_type": "markdown",
   "metadata": {
    "slideshow": {
     "slide_type": "subslide"
    }
   },
   "source": [
    "## Graph Framework | Graph Object"
   ]
  },
  {
   "cell_type": "markdown",
   "metadata": {
    "slideshow": {
     "slide_type": "notes"
    }
   },
   "source": [
    "```python\n",
    "class Graph(object):\n",
    "    def __init__(self):\n",
    "        self.operations = []\n",
    "        self.placeholders = []\n",
    "        self.variables = []\n",
    "    \n",
    "    def set_as_default(self):\n",
    "        global _default_graph\n",
    "        _default_graph = self\n",
    "```"
   ]
  },
  {
   "cell_type": "code",
   "execution_count": null,
   "metadata": {
    "slideshow": {
     "slide_type": "fragment"
    }
   },
   "outputs": [],
   "source": []
  },
  {
   "cell_type": "markdown",
   "metadata": {
    "slideshow": {
     "slide_type": "subslide"
    }
   },
   "source": [
    "## Graph Framework | Session"
   ]
  },
  {
   "cell_type": "markdown",
   "metadata": {
    "slideshow": {
     "slide_type": "notes"
    }
   },
   "source": [
    "```python\n",
    "class Session(object):\n",
    "    def run(self, operation, feed_dict={}):\n",
    "        nodes_postorder = self._traverse_postorder(operation)\n",
    "        \n",
    "        for node in nodes_postorder:\n",
    "            if type(node) == Placeholder:\n",
    "                node.output = feed_dict[node]\n",
    "            elif type(node) == Variable:\n",
    "                node.output = node.value\n",
    "            else:\n",
    "                node.inputs = [input_node.output for input_node in node.input_nodes]\n",
    "                node.output = node.compute(*node.inputs)\n",
    "            \n",
    "            if type(node.output) == list:\n",
    "                node.output = np.array(node.output)\n",
    "        return operation.output\n",
    "                \n",
    "    def _traverse_postorder(self, operation):\n",
    "        nodes_postorder = []\n",
    "        \n",
    "        def recurse(node):\n",
    "            if isinstance(node, Operation):\n",
    "                for input_node in node.input_nodes:\n",
    "                    recurse(input_node)\n",
    "            nodes_postorder.append(node)\n",
    "            \n",
    "        recurse(operation)\n",
    "        return nodes_postorder\n",
    "```"
   ]
  },
  {
   "cell_type": "code",
   "execution_count": 7,
   "metadata": {
    "slideshow": {
     "slide_type": "fragment"
    }
   },
   "outputs": [],
   "source": [
    "class Session(object):\n",
    "    def run(self, operation, feed_dict={}):\n",
    "        nodes_postorder = self._traverse_postorder(operation)\n",
    "        \n",
    "        for node in nodes_postorder:\n",
    "            if type(node) == Placeholder:\n",
    "                node.output = feed_dict[node]\n",
    "                \n",
    "            elif type(node) == Variable:\n",
    "                node.output = node.value\n",
    "                \n",
    "            else:\n",
    "                node.inputs = [input_node.output for input_node in node.input_nodes]\n",
    "                node.output = node.compute(*node.inputs)\n",
    "            \n",
    "            if type(node.output) == list:\n",
    "                node.output = np.array(node.output)\n",
    "        return operation.output\n",
    "                \n",
    "    def _traverse_postorder(self, operation):\n",
    "        nodes_postorder = []\n",
    "        \n",
    "        def recurse(node):\n",
    "            if isinstance(node, Operation):\n",
    "                for input_node in node.input_nodes:\n",
    "                    recurse(input_node)\n",
    "            nodes_postorder.append(node)\n",
    "            \n",
    "        recurse(operation)\n",
    "        return nodes_postorder"
   ]
  },
  {
   "cell_type": "markdown",
   "metadata": {
    "slideshow": {
     "slide_type": "subslide"
    }
   },
   "source": [
    "## Graph Framework | Results"
   ]
  },
  {
   "cell_type": "markdown",
   "metadata": {
    "slideshow": {
     "slide_type": "notes"
    }
   },
   "source": [
    "```python\n",
    "g = Graph()\n",
    "g.set_as_default()\n",
    "\n",
    "A = Variable(10)\n",
    "b = Variable(1)\n",
    "x = Placeholder()\n",
    "\n",
    "y = Mul(A, x)\n",
    "z = Add(y, b)\n",
    "```"
   ]
  },
  {
   "cell_type": "code",
   "execution_count": null,
   "metadata": {
    "slideshow": {
     "slide_type": "fragment"
    }
   },
   "outputs": [],
   "source": []
  },
  {
   "cell_type": "markdown",
   "metadata": {
    "slideshow": {
     "slide_type": "slide"
    }
   },
   "source": [
    "# TensorFlow\n",
    "\n",
    "https://towardsdatascience.com/pytorch-vs-tensorflow-spotting-the-difference-25c75777377b"
   ]
  },
  {
   "cell_type": "markdown",
   "metadata": {
    "slideshow": {
     "slide_type": "slide"
    }
   },
   "source": [
    "# BACKLOG"
   ]
  },
  {
   "cell_type": "code",
   "execution_count": null,
   "metadata": {},
   "outputs": [],
   "source": []
  }
 ],
 "metadata": {
  "celltoolbar": "Slideshow",
  "kernelspec": {
   "display_name": "Python 3",
   "language": "python",
   "name": "python3"
  },
  "language_info": {
   "codemirror_mode": {
    "name": "ipython",
    "version": 3
   },
   "file_extension": ".py",
   "mimetype": "text/x-python",
   "name": "python",
   "nbconvert_exporter": "python",
   "pygments_lexer": "ipython3",
   "version": "3.6.10"
  },
  "rise": {
   "enable_chalkboard": true,
   "theme": "serif"
  }
 },
 "nbformat": 4,
 "nbformat_minor": 2
}
